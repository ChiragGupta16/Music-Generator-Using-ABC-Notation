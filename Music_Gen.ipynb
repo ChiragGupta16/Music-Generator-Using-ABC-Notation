{
 "cells": [
  {
   "cell_type": "markdown",
   "id": "34587e12-9ef3-4c7a-8051-39bf5b656b52",
   "metadata": {},
   "source": [
    "### Music Generator using ABC Notation\n",
    "    Github   : https://github.com/ChiragGupta16\n",
    "    LinkedIn : https://www.linkedin.com/in/chirag-gupta16/\n",
    "    Author   : Chirag Gupta"
   ]
  },
  {
   "cell_type": "markdown",
   "id": "99ddb266",
   "metadata": {},
   "source": []
  },
  {
   "cell_type": "markdown",
   "id": "cf4a6ffb-5344-4b6e-89ec-2f899b5c464c",
   "metadata": {},
   "source": [
    "#### Downloading dataset"
   ]
  },
  {
   "cell_type": "markdown",
   "id": "cb324845-4350-44db-81d0-4b4bac96027d",
   "metadata": {},
   "source": [
    "The Nottingham Music Database has a collection of various folk music stored in abc format\n",
    "You can choose any file"
   ]
  },
  {
   "cell_type": "code",
   "execution_count": 1,
   "id": "d99301a8-94a7-4894-a8de-5044fa8488ab",
   "metadata": {},
   "outputs": [
    {
     "data": {
      "text/plain": [
       "46899"
      ]
     },
     "execution_count": 1,
     "metadata": {},
     "output_type": "execute_result"
    }
   ],
   "source": [
    "import requests\n",
    "\n",
    "url = 'https://abc.sourceforge.net/NMD/nmd/reelsr-t.txt'\n",
    "r = requests.get(url, allow_redirects=True)\n",
    "open('data/tunes.txt', 'wb').write(r.content)"
   ]
  },
  {
   "cell_type": "code",
   "execution_count": 1,
   "id": "464b526e-2448-402f-95b6-88bc4e2ac890",
   "metadata": {},
   "outputs": [],
   "source": [
    "with open('data/tunes.txt') as f:\n",
    "    tunes = f.read()\n",
    "f.close()"
   ]
  },
  {
   "cell_type": "code",
   "execution_count": 2,
   "id": "d3997f25-ad6b-4c65-9a8f-f66545fe9bde",
   "metadata": {},
   "outputs": [
    {
     "data": {
      "text/plain": [
       "'\\nX: 1\\nT:Raggety Anne\\n% Nottingham Music Database\\nS:Kevin Briggs, via EF\\nM:4/4\\nL:1/4\\nK:D\\nA/2F/2|\"D\"D/2F/2A/2F/2 BA/2F/2|\"D\"D/2F/2A/2F/2 BA/2F/2|\"D\"D/2F/2A/2F/2 BA/2F/2\\\\\\n|\"A7\"A/2cA/2 c3/2B/2|\\n\"A7\"A/2B/2c/2B/2 A/2B/2c/2B/2|\"A7\"A/2B/2c/2B/2 A/2B/2c/2B/2|\\\\\\n\"A7\"A/2B/2c/2d/2 e/2g/2f/2e/2|\\n\"D\"d/2c/2d/2e/2 \"A7\"d/2B/2A/2F/2|\"D\"D/2F/2A/2F/2 BA/2F/2|\\\\\\n\"D\"D/2F/2A/2F/2 BA/2F/2|\"D\"D/2F/2A/2F/2 BA/2F/2|\\n\"A7\"A/2cA/2 c3/2B/2|\"A7\"A/2B/2c/2B/2 A/2B/2c/2B/2|\\\\\\n\"A7\"A/2B/2c/2B/2 A/2B/2c/2B/2|\"A7\"A/2B/2c/2d/2 e/2g/2f/2e/2|\\n\"D\"d3f/2g/2|\"D\"a/2f/2A/2a/2 f/2A/2a/2A/2|\"D\"f/2d/2A/2f/2 d/2A/2f/2A/2|\\\\\\n\"D7\"d/2=c/2A/2d/2 \"e\"^c\"f#\"=c|\\n\"G\"B3e/2f/2|\"A7\"g/2f/2e/2f/2 g/2f/2e/2f/2|\"A7\"g/2f/2e/2d/2 ce/2f/2|\\\\\\n\"A7\"g/2f/2e/2d/2 cB|\\n\"A7\"A3f/2g/2|\"D\"a/2f/2A/2a/2 f/2A/2a/2A/2|\"D\"f/2d/2A/2f/2 d/2A/2f/2A/2|\\\\\\n\"D7\"d/2=c/2A/2d/2 \"e\"^c\"f#\"=c|\\n\"G\"B3e/2f/2|\"A7\"g/2f/2e/2f/2 g/2f/2e/2f/2|\"A7\"g/2f/2e/2f/2 g2|\\\\\\n\"A7\"A/2^G/2A/2^A/2 Bc|\"D\"d3||\\n\\n\\nX: 2\\nT:Ragtime Annie\\n% Nottingham Music Database\\nS:via PR\\nM:2/4\\nL:1/4\\nK:D\\nA/2|\"D\"D/4F/4A/4F/4 B/2A/4F/4|D/4F/4A/4F/4 B/2A/4F/4|\"D\"D/4F/4A/4F/4 B/2A/4F/4\\\\\\n|\"A7\"A/4c/2A/4 c/2B/2|\\nA/4B/4c/4A/4 B/4c/4B/4A/4|\"A7\"A/4B/4c/4A/4 B/4c/4B/4A/4|\\\\\\n\"A7\"A/4B/4c/4d/4 e/4g/4f/4e/4|\"D\"d3/2:|\\nf/4g/4|\"D\"a/2a/4b/4 a/4f/4d/4B/4|A/2A/2 A/2f/4g/4|\"D\"a/2a/2 g/2f/2|\\\\\\n\"G\"B3/2e/4f/4|\"Em\"g/4f/4e/4f/4 g/4f/4e/4d/4|\\n\"A7\"c/2A/2 c/2c/4A/4|\"Em\"B/2B/2 \"A7\"A/2G/2|\"D\"F3/2\"A7\"f/4g/4|\\\\\\n\"D\"a/2a/4b/4 a/4f/4d/4B/4|A/2A/2 A/2f/4g/4|\"D\"a/2a/2 g/2f/2|\\n\"G\"B3/2g/4a/4|\"G\"b/2b/2 b/4a/4f/4g/4|\"D\"a/2a/4b/4 a/4f/4d/4B/4|\\\\\\n\"A7\"A/4B/4c/4d/4 e/4g/4f/4e/4|\"D\"d3/2\\n|:G/4A/4|\"G\"B/2B/2 B/4G/4A/4B/4|\"Am\"c/4B/4c/4d/4 c/2d/4e/4|\"D7\"f/2\\nP:3\\nf/2 f/4d/4e/4f/4|\"G\"g/4f/4g/4a/4 g/2G/4A/4|\"Em\"B/2B/2 B/4G/4A/4B/4|\\\\\\n\"Am\"c/4B/4c/4d/4 c/2d/4e/4|\"D7\"f/2f/2 f/4d/4e/4f/4| [1\"G\"g/4f/4g/4a/4 g:|[2\"G\"g2||\\n\\n\\nX: 3\\nT:Randel\\'s Reel\\n% Nottingham Music Database\\nS:G. Mitchell, via PR\\nM:4/4\\nL:1/4\\nK:G\\n\"G\"^A/2B/2d/2g/2 d/2B/2e/2B/2|^A/2B/2d/2g/2 d/2B/2e/2B/2|\\\\\\n\"G\"d(3B/2d/2e/2 \"A7\"ge|\"D\"f2 \"A7\"f2|\\n\"D\"A/2d/2f/2A/2 g/2A/2f/2A/2|\"D\"a/2A/2g/2A/2 f/2A/2e/2A/2|\\\\\\n\"Am\"f/2g/2f/2e/2 \"D7\"de|\"G\"B2 \"D7\"B2|\\n\"G\"^A/2B/2d/2g/2 d/2B/2e/2B/2|^A/2B/2d/2g/2 d/2B/2e/2B/2|\\\\\\n\"G\"d(3B/2d/2e/2 \"Bb/dim\"ge|\"Am\"f2 \"D\"f2|\\n\"Am\"f/2A/2g/2A/2 a/2A/2g/2A/2|\"D\"f/2A/2e/2A/2 d/2A/2c/2A/2|\\\\\\n\"Am\"c/2d/2c/2A/2 \"D7\"DF|\"G\"G2 G3/2^A/2||\\n\"G\"B/2d/2g/2B/2 a/2B/2g/2B/2|b/2B/2a/2B/2 g/2B/2d/2B/2|\"G\"g/2d/2B/2d/2 \"Em\"gb|\\\\\\n\"Am\"a2 \"A7\"a2|\\n\"D\"A/2d/2f/2A/2 g/2A/2f/2A/2|\"D\"a/2A/2g/2A/2 f/2A/2e/2A/2|\\\\\\n\"Am\"f/2g/2f/2e/2 \"D7\"de|\"G\"B2 \"D7\"B3/2^A/2|\\n\"G\"B/2d/2g/2B/2 a/2B/2g/2B/2|b/2B/2a/2B/2 g/2B/2d/2B/2|\"G7\"g/2d/2B/2d/2 gb|\\\\\\n\"C\"a2 \"A7\"a3/2A/2|\\n\"D\"f/2A/2g/2A/2 a/2A/2g/2A/2|f/2A/2e/2A/2 d/2A/2c/2A/2|\"F\"c/2d/2c/2A/2 \"D7\"DF|\\\\\\n\"G\"G2 G2||\\n\\n\\nX: 4\\nT:Rattigan\\'s\\n% Nottingham Music Database\\nS:Ireland, via PR\\nM:4/4\\nL:1/4\\nK:G\\n\"G\"GB/2G/2 D/2G/2B/2d/2|gf/2g/2 e/2d/2B/2A/2|\"G\"GB/2G/2 D/2G/2B/2G/2|\\\\\\n\"D7\"A/2B/2A/2G/2 F/2D/2E/2F/2|\\n\"G\"GF \"D7\"E/2D/2B/2A/2|\"G\"G/2g/2f/2g/2 \"D7\"e/2d/2B/2A/2|\\\\\\n\"G\"GB/2G/2 D/2G/2B/2d/2| [1\"D7\"c/2A/2F/2A/2 \"G\"G2:| [2\"D7\"c/2A/2F/2A/2 \"G\"G B/2c/2|\\n|:\"G\"d/2g/2g/2f/2 g/2f/2e/2d/2|\"Am\"e/2a/2a/2g/2 aa/2g/2|\\\\\\n\"D\"f/2d/2d a/2d/2d|\"D\"f/2a/2a/2f/2 \"D7\"g/2e/2d/2c/2|\\n\"G\"B/2G/2G \"C\"E/2G/2D/2F/2|\"G\"G/2g/2f/2g/2 e/2d/2B/2A/2|GB/2G/2 D/2G/2B/2d/2|\\\\\\n\"D7\"c/2A/2F/2A/2 \"G\"G2:|\\n\\n\\nX: 5\\nT:Rattling Bog\\n% Nottingham Music Database\\nS:Kevin Briggs, via EF\\nM:4/4\\nL:1/4\\nK:D\\nP:A\\nd/2e/2|\"D\"f2 \"D7\"f3/2e/2|\"G\"dB B3/2B/2|\"D\"Ad d/2c/2d/2e/2|\"E7\"fe \"A7\"e2|\\\\\\n\"D\"f2 \"D7\"f3/2e/2|\"G\"dB B3/2B/2|\"D\"Aa af|\"A7\"ed \"D\"d:|\\nP:B\\nd/2e/2|\"D\"fd \"A7\"ed|\"D\"fd \"A7\"ed/2e/2|\"D\"fa af|\"E7\"ed \"A7\"ed/2e/2|\\n\"D\"fd \"A7\"ed|\"D\"fd \"A7\"ed/2e/2|\"D\"fa af|\"A7\"ed \"D\"d:|\\n\\n\\nX: 6\\nT:Little Red Waggon\\n% Nottingham Music Database\\nS:Kevin Briggs, via EF\\nP:ABCA\\nM:4/4\\nL:1/4\\nK:D\\nP:A\\n\"F#7\"A^A |\"B7\"B2 AF|\"B7\"B2 AF|\"E7\"E2 B,2-|\"E7\"B,2 B,=C|\"A7\"C2 B,A,|\"A7\"GG FE|\\\\\\n\"D\"F4-|\"D\"F2 ||\\nP:B\\n\"F#7\"A^A |\"B7\"B2 AF|\"B7\"B2 AF|\"E7\"E2 B,2-|\"E7\"B,2 F2|\"B7\"F2 F2|\"B7\"F2 ED|\\\\\\n\"E7\"E4-|\"A\"E2 ||\\nP:C\\nz A|\"D\"A2 A2|\"D7\"A2 B3/2A/2|\"G\"AG -G2-|\"G\"G2 G2|\"B7\"F2 F2|\"B7\"F2 G3/2F/2|\"E7\"E4-\\\\\\n|\"A\"E2 ||\\n\\n\\nX: 7\\nT:Red Haired Boy\\n% Nottingham Music Database\\nS:Fiddler\\'s Fakebook, via PR\\nM:4/4\\nL:1/4\\nK:A\\nA/2F/2|\"A\"EA A/2B/2c/2d/2|\"A\"e/2f/2e/2c/2 \"D\"dc/2d/2|\\\\\\n\"A\"e/2d/2c/2B/2 A/2B/2c/2A/2|\"G\"B/2A/2E/2F/2 =G3/2F/2|\\n\"A\"EA A/2B/2c/2d/2|\"A\"e/2f/2e/2c/2 \"D\"dc/2d/2|\"A\"ea/2g/2 \"E7\"a/2f/2e/2d/2|\\\\\\n\"A\"cA A::\\ne/2f/2|\"G\"=g/2f/2e/2f/2 g/2f/2e/2f/2|\"G\"=g/2f/2e/2c/2 \"D\"dc/2d/2|\\\\\\n\"A\"e/2d/2c/2B/2 A/2B/2c/2A/2|\\n\"G\"B/2A/2E/2F/2 =G3/2F/2|\"A\"EA A/2B/2c/2d/2|\"A\"e/2f/2e/2c/2 \"D\"dc/2d/2|\\\\\\n\"A\"ea/2g/2 \"E7\"a/2f/2e/2d/2|\"A\"cA A:|\\n\\n\\nX: 8\\nT:Redwing\\n% Nottingham Music Database\\nS:Kevin Briggs, via EF\\nP:ABBABBA\\nM:4/4\\nL:1/4\\nK:F\\nP:A\\nf/2e/2|\"Bb\"d2 B2|\"Bb\"df ed|\"F\"c2 A2-|\"F\"Ac dc|\"C7\"c2 G2-|\"C7\"Gc dc|\"F\"c2 A2-|\\n\"F\"A2 fe|\"Bb\"d2 d2|\"Bb\"df ed|\"F\"c2 A2-|\"F\"Ac dc|\"C7\"c2 G2-|\"C7\"GB AG|\"F\"F4-|\\\\\\n\"F\"F3:|\\nP:B\\nc|\"F\"FF FA|\"F\"cc cF|\"Bb\"Bd fd|\"F\"c3A|\"C7\"BG CB|\"F\"AF CA|\"G7\"GG f3/2f/2|\\\\\\n\"C7\"ec c2|\\n\"F\"FF FA|\"F\"cc cF|\"Bb\"Bd fd|\"F\"c3F|\"C7\"BG CB|\"F\"AF CA|\"Gm\"GD \"C7\"EC|\"F\"F3:|\\n\\n\\nX: 9\\nT:Uncle Reuben\\n% Nottingham Music Database\\nS:via PR\\nM:2/4\\nL:1/4\\nK:G\\nd/2|\"G\"g/2g/2 e/2d/2|g/2g/2 G|\"G\"g/2g/2 e/2d/2|\"D7\"A2|\"G\"g/4g/4g/4g/4 e/2d/2|\\\\\\n\"G\"g/4g/4g/4g/4 e/2d/2|\"D7\"B3/4B/4 B/2A/2|\"G\"G3/2::\\nd/2|\"G\"e/2d/2 B/2A/2|B3/4B/4 B/2A/2|\"G\"B3/4B/4 B/2A/2|B3/4B/4 B/2d/2|\\\\\\n\"G\"e/2d/2 B/2A/2|B3/4B/4 B/2A/2|\"D7\"B3/4B/4 B/2A/2|\"G\"G3/2:|\\n\\n\\nX: 10\\nT:Rhos-y-gwaliau Romp\\n% Nottingham Music Database\\nS:Dennis Salter, via PR\\nM:4/4\\nL:1/4\\nK:G\\nd|\"G\"e/2d/2^c/2d/2 e/2d/2B/2=c/2|d/2g/2f/2e/2 dz/2d/2|\\\\\\n\"G\"e/2d/2^c/2d/2 \"F\"e/2d/2=f/2d/2|\\n\"D7\"f3c/2c/2|d/2c/2B/2c/2 fc/2c/2|\"D7\"d/2c/2B/2c/2 fz|cB/2c/2 f/2e/2d/2c/2|\\n\"G\"B3d/2d/2|\"G\"e/2d/2^c/2d/2 e/2d/2B/2=c/2|d/2B/2e/2B/2 de/2f/2|\\\\\\n\"G\"gf/2g/2 \"G7\"a/2g/2f/2=f/2|\\n\"C\"e3g|a/2e/2^d/2e/2 a/2e/2d/2e/2|\"G\"g/2d/2^c/2d/2 g/2d/2c/2d/2|\\\\\\n\"D7\"f/2e/2d/2c/2 \"Am\"B\"D7\"A|\\n\"G\"GD/2E/2 \"D7\"F/2G/2A/2^A/2|\"G\"[G3/2B3/2][G/2 B/2 ][GB][GB]|[Bd][B2d2]B/2c/2|\\\\\\n\"C\"e3/2d/2 cB|\\n\"Am\"cc/2B/2 c/2B/2A/2G/2|\"D7\"Dc/2c/2 cc|\"Am\"Ac \"D7\"cB/2c/2|\"D7\"dc A^A|\\\\\\n\"G\"B2 \"D7\"d2|\\n\"G\"e/2d/2^c/2d/2 e/2d/2B/2=c/2|d/2B/2e/2B/2 de/2f/2|\\\\\\n\"G\"gf/2g/2 \"G7\"a/2g/2d/2^d/2|\"C\"e3f/2g/2|\\na/2e/2^d/2e/2 a/2e/2d/2e/2|\"G\"g/2d/2^c/2d/2 g/2d/2c/2d/2|\\\\\\n\"Am\"f/2e/2d/2c/2 \"D7\"B/2A/2G/2F/2|\"G\"Gd g||\\n\\n\\nX: 11\\nT:Rhubarb Sandwich\\n% Nottingham Music Database\\nS:via PR\\nM:4/4\\nL:1/4\\nK:G\\n\"G\"G3/2A/2 Bd|\"G\"gf ed|\"Am\"eA AB|\"D7\"cd/2c/2 BA|\"G\"G3/2A/2 Bd|\"Em\"gf ed|\\\\\\n\"Am\"ea \"D7\"ef|\"G\"g4::\\n\"Am\"ae ae|\"Am\"ae e3/2f/2|\"G\"gd gd|\"G\"gd d3/2^g/2|\"Am\"ae ae|\"Am\"ae e3/2f/2|\\\\\\n\"G\"ge \"Em\"dB|\"Am\"A2 A2:|\\n\\n\\nX: 12\\nT:Rights of Man\\n% Nottingham Music Database\\nS:Fiddler\\'s Fakebook, via PR\\nM:4/4\\nL:1/4\\nK:Em\\nG/2A/2|(3\"Em\"B/2c/2B/2(3A/2B/2A/2 (3G/2A/2G/2(3F/2G/2F/2|E/2F/2G/2A/2 Be/2f/2|\\n\"Em\"g/2f/2e/2d/2 e/2d/2c/2B/2|\"Am\"c/2B/2A/2G/2 \"B\"FG/2A/2|\\\\\\n(3\"Em\"B/2c/2B/2(3A/2B/2A/2 (3G/2A/2G/2(3F/2G/2F/2|\\n\"Em\"E/2F/2G/2A/2 Be/2f/2|\"Em\"g/2f/2e/2d/2 \"B\"B/2g/2(3f/2g/2f/2|\"Em\"eB E::\\ng/2a/2|\"Em\"b/2g/2b/2g/2 e/2f/2g/2a/2|b/2a/2g/2f/2 e/2g/2f/2e/2|\\\\\\n\"D\"d/2^c/2d/2e/2 f/2e/2f/2g/2|a/2f/2d/2f/2 a(g/2f/2)|\\n\"Em\"e/2B/2e/2g/2 \"D\"f/2d/2f/2a/2|\"Em\"g/2f/2g/2a/2 b/2g/2e/2f/2|\\\\\\n\"Em\"g/2f/2e/2d/2 \"B\"B/2g/2(3f/2g/2f/2|\"Em\"eB E:|\\n\\n\\nX: 13\\nT:Rigs O\\' Mallow\\n% Nottingham Music Database\\nS:Kevin Briggs, via EF\\nM:4/4\\nL:1/4\\nK:G\\nP:A\\nc/2B/2|\"G\"GB GB|\"G\"GB c/2B/2A/2G/2|\"D7\"FA FA|\"D7\"FA d/2c/2B/2A/2|\\n\"G\"GB GB|\"G\"GB \"Em\"d3/2B/2|\"Am\"c/2B/2A/2G/2 \"D7\"F/2G/2A/2c/2|\"G\"BG G:|\\nP:B\\nd|\"G\"gf/2e/2 dc|\"G\"Bc \"D7\"d2|\"G\"gf/2e/2 dc|\"G\"Bd \"D7\"A2|\\n\"G\"\"Em\"gf/2e/2 dc|\"G\"Bc \"Em\"d3/2B/2|\"Am\"c/2B/2A/2G/2 \"D7\"F/2G/2A/2c/2|\"G\"BG G\\\\\\n:|\\n\\n\\nX: 14\\nT:Road to Butlins A52\\n% Nottingham Music Database\\nS:Kevin Briggs, via EF\\nM:4/4\\nL:1/4\\nK:D\\nP:A\\nd/2e/2|\"D\"f2 fe/2f/2|\"G\"gf ed|\"A7\"cd ef|\"D\"dA FA|\"D\"f2 f\"D/f+\"e/2f/2|\\\\\\n\"G\"gf \"E7/g+\"ed|\"A7\"cd \"A7/g\"ef|\"D/f+\"d2 \"A7/e\"d:|\\nP:B\\nf/2g/2|\"D\"a2 ag/2a/2|\"G\"ba gf|\"A7\"g2 gf/2g/2|\"D\"ag \"F#7\"fe|\\\\\\n\"Bm\"f2 \"Bm/a\"fe/2f/2|\"Em/g\"gf \"E7/g+\"ed|\"A7\"cd ef|\"D\"d3:|\\n\\n\\nX: 15\\nT:Roberston\\'s Reel\\n% Nottingham Music Database\\nS:Tom Anderson, via PR\\nM:4/4\\nL:1/4\\nK:G\\nG/2A/2|\"G\"BA/2B/2 dB/2A/2|\"G\"G/2A/2G/2E/2 \"D\"DG/2A/2|\"G\"BA/2B/2 d/2B/2G/2B/2|\\\\\\n\"Am\"A3\"D7\"G/2A/2|\\n\"G\"BA/2B/2 dB/2A/2|\"G\"G/2A/2G/2E/2 \"D\"DG/2A/2|\"G\"B/2A/2B/2d/2 \"D7\"A/2G/2A/2d/2\\\\\\n|\"G\"G3::\\nB/2c/2|\"G\"dB/2d/2 gf/2g/2|\"C\"e/2d/2B/2c/2 \"D7\"dB/2c/2|\"G\"dB/2d/2 gf/2g/2|\\\\\\n\"Am\"e3\"D7\"d/2e/2|\\n\"G\"gG GB/2A/2|\"C\"G/2A/2G/2E/2 \"D7\"DG/2A/2|\"G\"B/2A/2B/2d/2 \"D7\"A/2G/2A/2d/2|\\\\\\n\"G\"G3:|\\n\\n\\nX: 16\\nT:Roddy McCawley\\n% Nottingham Music Database\\nS:Saen Smith, via PR\\nM:4/4\\nL:1/4\\nK:G\\nGA |\"G\"B2 AB|D2 GA|\"G\"B3/2c/2 BA|G2 D2|\"C\"E2 G2|G2 A2|\"G\"G4-|\\nB2 Bc|\"G\"d2 d2|d2 Bd|\"C\"e2 e2|\"G\"d2 BA|\"Em\"G2 E2|\"Am\"c2 B2|\"D\"A4-|\\nA2 Bc|\"G\"d2 d2|d2 Bd|\"C\"e2 e2|\"G\"d2 BA|\"Em\"G2 E2|\"Am\"c2 B2|\"D\"A4-|A2 GA|\\n\"G\"B2 AB|D2 GA|\"G\"B3/2c/2 BA|G2 D2|\"C\"E2 G2|G2 A2|\"G\"G4-|G4||\\n\\n\\nX: 17\\nT:Rodney\\'s Glory\\n% Nottingham Music Database\\nP:AABAB\\nS:O\\'Neill, via EF\\nM:4/4\\nL:1/4\\nK:C\\nP:A\\ne/2d/2|\"C\"cB/2c/2 \"F\"AA/2c/2|\"G\"B3/4c/4\"D7\"B/2A/2 \"G7\"Gc/2d/2|\\\\\\n\"C\"ee/2d/2 \"D7\"c/2d/2e/2^f/2|\"G\"g/2e/2\"D7\"d/2c/2 \"G7\"de/2d/2|\\n\"C\"cB/2c/2 \"F\"AA/2c/2|\"G\"B3/4c/4\"D7\"B/2A/2 \"G7\"Ge/2d/2|\\\\\\n\"C\"c\"F\"A \"G\"B3/4A/4\"Em\"G/2B/2|\"Am\"A3/4B/4\"Dm\"A/2G/2 \"Am\"A:|\\nP:B\\nd|\"Am\"e/2d/2\"D7\"e/2^f/2 \"G\"ge/2d/2|\"C\"c\"G\"d \"C\"c\"Am\"c/2d/2|\\\\\\n\"D7\"e/2d/2e/2^f/2 \"G\"g/2=f/2e/2d/2|\"D7\"d/2c/2B/2A/2 \"G\"GB|\\n\"Am\"AA/2B/2 c\"G7\"d|\"C\"ee \"F\"a3/2b/2|\"C\"a/2g/2e/2d/2 \"F\"cA/2c/2|\\\\\\n\"G\"B3/4c/4\"D7\"B/2A/2 \"G7\"Ge/2d/2|\\n\"C\"cB/2c/2 \"F\"AA/2c/2|\"G\"B3/4c/4\"D7\"B/2A/2 \"G7\"Ge/2d/2|\\\\\\n\"C\"c\"F\"A \"G\"B3/4A/4\"Em\"G/2B/2|\"Am\"A3/4B/4\"Dm\"A/2G/2 \"Am\"A||\\n\\n\\nX: 18\\nT:Rollin\\' In\\n% Nottingham Music Database\\nS:Kevin Briggs, via EF\\nM:4/4\\nL:1/4\\nK:D\\nP:A\\nf/2g/2|\"D\"aa/2b/2 \"A7/e\"af|\"D/f+\"dd/2e/2 \"G\"dB|\"A7\"Ae c2|\"D\"da \"A7\"f2|\\\\\\n\"D\"aa/2b/2 \"F#m\"af|\"Bm\"dd/2e/2 \"E7\"dB|\"A7\"Ae ac|\"D\"d3:|\\nK:A\\nP:B\\ne|\"A\"e/2^d/2e ae|\"A\"c3/2d/2 e2|\"E7\"BE GB|\"A\"A/2B/2c/2d/2 \"E7\"e2|\"A\"e/2^d/2e ae\\\\\\n|\"F#m\"c3/2d/2 e2|\"Bm\"BB \"E7\"ec|\"A\"A3:|\\n\\n\\nX: 19\\nT:Rollstone Mountain\\n% Nottingham Music Database\\nS:via PR\\nM:4/4\\nL:1/4\\nK:D\\nFG |\"D\"A3/2B/2 AF|Ad fd|\"G\"G3/2A/2 \"D\"GF|\"Em\"E2 \"Em7\"EF|\"A\"G3/2A/2 cB|\\n\"A\"AB \"A7\"GA|\"D\"F2 F2|F2 FG|\"D\"A3/2B/2 AF|Ad fd|\"G\"B3/2^A/2 Be|\\n\"Em\"g2 Bd|\"A\"c3/2d/2 cB|\"A7\"Ac ec|\"D\"d2 d2|d2 fg||\\n\"D\"a2 a^g/2a/2|ba gf|\"Em\"g2 B2|\"Em\"e2 \"E7\"ed|\"A\"c3/2d/2 cB|\"A\"Ac \"A7\"de|\\\\\\n\"D\"f2 f2|f2 fg|\\n\"D\"a2 a^g/2a/2|\"B7\"ba gf|\"Em\"g2 B2|\"Em\"e2 \"E7\"ed|\"A\"c3/2d/2 cB|\"A7\"Ac ec|\\\\\\n\"D\"d2 \"G\"d2|\"D\"d2 ||\\n\\n\\nX: 20\\nT:Rose Tree\\n% Nottingham Music Database\\nS:Kevin Briggs, via EF\\nM:4/4\\nL:1/4\\nK:D\\nP:A\\nf/2e/2|\"D\"dB AF|\"D\"A/2B/2A/2F/2 \"A7\"AF/2A/2|\"D\"dd \"Bm\"f/2e/2d/2e/2|\\\\\\n\"Em\"fe \"A7\"e/2g/2f/2e/2|\\n\"D\"d(3B/2d/2B/2 AF|\"D\"A/2B/2A/2F/2 \"F#m\"AF/2A/2|\"Bm\"dc/2d/2 \"A7\"ed/2e/2|\\\\\\n\"D\"fd d:|\\nP:B\\nd/2e/2|\"D\"fe fg|\"D\"ab/2a/2 gf|\"Em\"eb b3/2a/2|\"A7\"be ef/2e/2|\\n\"D\"d(3B/2d/2B/2 AF|\"D\"A/2B/2A/2F/2 \"F#m\"AF/2A/2|\"Bm\"dc/2d/2 \"A7\"ed/2e/2|\\\\\\n\"D\"fd d:|\\n\\n\\nX: 21\\nT:Ross\\'s Reel\\n% Nottingham Music Database\\nS:via PR\\nM:4/4\\nL:1/4\\nK:F\\na|\"C\"g3/2f/2 \"C7\"ed|\"F\"c/2d/2c/2B/2 AG/2\\\\\\nP:3\\nF/2|\"C\"E/2C/2E/2G/2 \"C7\"c/2d/2c/2B/2|\"F\"A/2F/2A/2c/2 fa|\\n\"C\"g3/2f/2 \"C7\"ed|\"F\"c/2d/2c/2B/2 AG/2F/2|\"C7\"E/2F/2G/2A/2 B/2c/2d/2e/2|\\\\\\n\"F\"fa f::\\nc/2B/2|\"F\"A/2c/2c/2c/2 d/2c/2c/2c/2|A/2c/2f/2c/2 a/2c/2f/2c/2|\\\\\\n\"F\"A/2c/2c/2c/2 d/2c/2c/2c/2|A/2c/2f/2c/2 a/2c/2f/2c/2|\\n\"F\"A/2c/2c/2c/2 d/2c/2c/2c/2|\"C\"=B/2c/2e/2c/2 g/2c/2_b/2c/2|\\\\\\n=B/2c/2e/2c/2 g/2c/2_b/2c/2|\"C7\"a/2c/2g/2c/2 \"F\"f:|\\n\\n\\nX: 22\\nT:Roxburgh Castle\\n% Nottingham Music Database\\nS:Kevin Briggs, via EF\\nM:4/4\\nL:1/4\\nK:A\\nP:A\\nc/2B/2|\"A\"A/2G/2A/2c/2 e/2c/2A/2c/2|\"D\"d/2c/2d/2f/2 \"A\"e/2c/2A/2c/2|\\\\\\n\"D\"d(3f/2e/2d/2 \"A\"ca|\"Bm\"BB/2c/2 \"E7\"B/2d/2c/2B/2|\\n\"A\"A/2G/2A/2c/2 e/2c/2A/2c/2|\"D\"d/2c/2d/2f/2 \"A\"e/2c/2(3A/2c/2e/2|\\\\\\n\"A\"a/2g/2a/2f/2 \"E7\"e/2d/2c/2B/2|\"A\"cA A::\\nP:B\\nz/2e/2|\"A\"a/2e/2c/2e/2 f/2e/2c/2e/2|\"A\"a/2e/2c/2e/2 f/2e/2c/2e/2|\"D\"db \"A\"ca|\\\\\\n\"Bm\"BB/2c/2 \"E7\"B/2d/2c/2B/2|\\n\"A\"A/2G/2A/2c/2 e/2c/2A/2c/2|\"D\"d/2c/2d/2f/2 \"A\"e/2c/2(3A/2c/2e/2|\\\\\\n\"A\"a/2g/2a/2f/2 \"E7\"e/2d/2c/2B/2|\"A\"cA A:|\\n\\n\\nX: 23\\nT:Russ Allen\\n% Nottingham Music Database\\nS:Kevin Briggs, via EF\\nM:4/4\\nL:1/4\\nK:D\\nP:A\\n(3A/2B/2c/2|\"D\"dd \"A7\"c/2d/2e/2c/2|\"D\"dd \"A7\"c/2d/2e/2c/2|\"D\"d/2e/2f/2g/2 af|\\\\\\n\"G\"g/2f/2e/2d/2 \"A7\"cA|\\n\"D\"dd \"A7\"c/2d/2e/2c/2|\"D\"dd \"A7\"c/2d/2e/2c/2|\"D\"d/2e/2f/2g/2 ad|\\\\\\n\"A7\"c/2d/2e/2c/2 \"D\"d::\\nP:B\\nf/2g/2|\"D\"a/2^g/2a/2b/2 af/2=g/2|\"D\"a/2^g/2a/2b/2 af|\"G\"ge/2g/2 \"D\"fd/2f/2|\\\\\\n\"Em\"e/2d/2c/2d/2 \"A7\"ef/2g/2|\\n\"D\"a/2^g/2a/2b/2 \"A/c+\"af/2=g/2|\"C\"a/2^g/2a/2b/2 \"B7\"af|\"Em\"ge/2g/2 fd/2f/2|\\\\\\n\"A7\"ec \"D\"d:|\\n\\n\\nX: 24\\nT:Ryan\\'s Rant\\n% Nottingham Music Database\\nP:AABBCCDD\\nS:Eric Foxley\\nM:4/4\\nL:1/4\\nK:Am\\nP:A\\nE|:\"Am\"Ae/2A/2 a/2A/2e/2A/2|\"Am\"Ae/2A/2 \"G\"d/2B/2G/2B/2|\\\\\\n\"Am\"Ae/2A/2 a/2A/2e/2^f/2|\"G\"gg/2e/2 d/2B/2G/2B/2:|\\nP:B\\n\"Am\"(3c/2B/2A/2e/2A/2 (3c/2B/2A/2e/2A/2|\"Am\"(3c/2B/2A/2e/2A/2 \"G\"d/2B/2G/2B/2|\\\\\\n\"Am\"(3c/2B/2A/2e/2A/2 (3c/2B/2A/2e/2A/2|\"G\"gg/2e/2 d/2B/2G/2B/2:|\\nP:C\\n\"Am\"Ae/2A/2 a/2A/2e/2A/2|\"Am\"a/2A/2e/2A/2 \"G\"d/2B/2G/2B/2|\\\\\\n\"Am\"Ae/2A/2 a/2A/2e/2A/2|\"G\"g/2^f/2g/2e/2 d/2B/2G/2B/2:|\\nP:D\\n\"Am\"c/2e/2A/2e/2 c/2e/2A/2e/2|\"Am\"c/2e/2A/2e/2 \"G\"d/2B/2G/2B/2|\\\\\\n\"Am\"c/2e/2A/2e/2 c/2e/2A/2e/2|\"G\"g/2^f/2g/2e/2 d/2B/2G/2B/2:|\\n\\n\\nX: 25\\nT:S.H. Reel\\n% Nottingham Music Database\\nS:Bryon Bonnett, via PR\\nM:4/4\\nL:1/4\\nK:G\\nBc |\"G\"dd BB|GG D2|GG AG|\"D7\"FA e_e|\"G\"dd BB|G/2A/2G D2|\\\\\\n\"Am\"A/2B/2c \"D7\"D/2E/2F|[1\"G\"G2 :|[2 \"G\" G2 G2|\\n\"C\"ee c/2d/2e|\"G\"dd B2|\"D7\"cc Ae|\"G\"d/2^c/2d B2|\"C\"ee c/2d/2e|\\n\"G\"dd B3/2_B/2|\"A7\"AB c^c|\"D7\"de =f^f|\"G\"gg d/2e/2d|B/2c/2B G3/2D/2|\\nGG AG|\"D7\"FG ^GA|\"G\"dd B/2c/2B|G/2A/2G D2|\"Am\"A/2B/2c \"D7\"D/2E/2F|\"G\"G2 ||\\n\\n\\nX: 26\\nT:Sackett\\'s Harbor\\n% Nottingham Music Database\\nS:via PR\\nM:4/4\\nL:1/4\\nK:Am\\nA2 |\"Am\"E/2G/2A/2B/2 AA/2B/2|c/2B/2A/2G/2 BE|\"G\"GG G/2A/2B/2c/2|\\\\\\nd/2c/2B/2c/2 d/2c/2B/2c/2|\\n\"Am\"E/2G/2A/2B/2 AA/2B/2|\"Am\"c/2B/2A/2G/2 \"Em\"BE|\\\\\\n\"Am\"c/2d/2c/2A/2 \"G\"B/2c/2B/2G/2|\"Am\"AA ::\\nA/2B/2c/2d/2 |\"C\"e/2d/2c/2d/2 eg|e/2d/2c/2B/2 AB/2c/2|\"G\"d/2c/2B/2c/2 dg|\\nd/2c/2B/2A/2 Gc/2d/2|\"C\"e/2d/2c/2d/2 eg|\"C\"e/2d/2c/2B/2 \"Am\"A2|\\\\\\n\"Am\"c/2d/2c/2A/2 \"G\"B/2c/2B/2G/2|\"Am\"AA :|\\n\\n\\nX: 27\\nT:Miss S. Campbell of Saddle\\n% Nottingham Music Database\\nS:via PR\\nM:4/4\\nL:1/4\\nK:A\\n|:E|\"A\"AA c/2B/2A/2c/2|\"A\"ee \"E\"e/2d/2c/2d/2|\"A\"ea gf|\"A\"e2 e3/2G/2|\\n\"E\"EE G/2F/2E/2G/2|\"E\"BB B/2A/2G/2A/2|\"E\"Bd BG|[1\"A\"A2 A:|[2\"A\" A2 A2\\n|:\"A\"e3/2c/2 AA|\"Bm\"d3/2B/2 \"E7\"GG|\"A\"e3/2c/2 AA|\"Bm\"B2 \"E7\"B2|\"A\"e3/2c/2 AA|\\\\\\n\"Bm\"d3/2B/2 \"E7\"GG|\"A\"Ac \"E7\"BG|\"A\"A2 A2:|\\n\\n\\nX: 28\\nT:Sailor\\'s Hornpipe\\n% Nottingham Music Database\\nS:Eric Foxley\\nM:4/4\\nL:1/4\\nK:G\\nP:A\\ng/2f/2|\"G\"gG Gd/2c/2|\"G\"B/2d/2g g/2b/2a/2g/2|\"A7\"aA AA/2G/2|\\\\\\n\"D7\"F/2A/2d de/2f/2|\\n\"G\"g/2f/2e/2d/2 \"C\"e/2d/2c/2B/2|\"Am\"c/2B/2A/2G/2 \"D7\"G/2F/2E/2D/2|\\\\\\n\"C\"E/2G/2\"d\"F/2A/2 \"c\"G/2B/2\"f#\"A/2c/2|\"G\"BG G:|\\nP:B\\nd/2c/2|\"G\"B/2d/2g/2d/2 B/2d/2g/2d/2|\"C\"ec ce/2d/2|\\\\\\n\"A7\"^c/2e/2a/2e/2 c/2e/2a/2e/2|\"D\"fd dB|\\n\"C\"ce e/2d/2c/2B/2|\"Am\"c/2B/2A/2G/2 \"D7\"G/2F/2E/2D/2|\\\\\\n\"C\"E/2G/2\"d\"F/2A/2 \"c\"G/2B/2\"f#\"A/2c/2|\"G\"BG G:|\\n\\n\\nX: 29\\nT:Saints\\n% Nottingham Music Database\\nS:Kevin Briggs, via EF\\nM:4/4\\nL:1/4\\nK:G\\nGB c|\"G\"d4-|\"G\"dG Bc|\"G\"d4-|\"G\"dG Bc|\"G\"d2 B2|\"G\"G2 B2|\"A7\"A4-|\\n\"D7\"A2 BA|\"G\"G3G|\"G7\"B2 d2|\"C\"dc3-|\"Cm\"c2 Bc|\"G\"d2 B2|\"A7\"G2 \"D7\"A2|\"G\"G4-|\\\\\\n\"G\"G||\\n\\n\\nX: 30\\nT:Careless Sally\\'s Reel\\n% Nottingham Music Database\\nS:Ralph Page, via PR\\nM:4/4\\nL:1/4\\nK:G\\nG|\"D\"D3\"D7\"E/2F/2|\"G\"G3A/2B/2|\"C\"cc \"G\"BB|\"D\"A/2G/2A/2B/2 AD|\"D\"D3\"D7\"E/2F/2|\\\\\\n\"G\"G3A/2B/2|\"C\"cc \"G\"BB|\"D\"A/2G/2A/2B/2 \"G\"G::\\nB/2c/2|\"G\"d/2e/2d/2c/2 B/2G/2B/2c/2|d/2e/2d/2c/2 BA/2\\nP:3\\nB/2|\"D\"c/2d/2c/2B/2 A/2D/2F/2G/2|\"Am\"A/2B/2c/2B/2 \"D\"AB/2c/2|\\\\\\n\"G\"d/2e/2d/2c/2 B/2G/2B/2c/2|\"F\"d/2e/2d/2c/2 \"E7\"BA/2\\nP:3\\nB/2|\"Am\"c/2d/2c/2B/2 A/2D/2F/2G/2|\"D7\"A/2G/2B/2A/2 \"G\"G:|\\n\\n\\nX: 31\\nT:Sally Picker\\n% Nottingham Music Database\\nS:Kevin Briggs, via EF\\nM:4/4\\nL:1/4\\nK:G\\nP:A\\nD|\"G\"GB/2G/2 \"D7\"DE/2F/2|\"G\"GB/2d/2 g/2d/2B/2G/2|\"C\"ce/2c/2 \"G\"Bd/2B/2|\\\\\\n\"Am\"A/2B/2A/2G/2 \"D7\"F/2D/2E/2F/2|\\n\"G\"GB/2G/2 \"D7\"DE/2F/2|\"G\"GB/2d/2 gg|\"D\"f/2a/2f/2d/2 \"A7\"e/2g/2e/2^c/2|\\\\\\n\"D7\"dd/2d/2 d:|\\nP:B\\nc|\"G\"B/2d/2d/2d/2 e/2d/2d/2d/2|\"G\"g/2d/2d/2d/2 e/2d/2d/2d/2|\\\\\\n\"C\"e/2f/2g/2f/2 e/2d/2c/2B/2|\"Am\"A/2B/2A/2G/2 \"D7\"F/2D/2E/2F/2|\\n\"G\"GB/2G/2 \"D7\"DE/2F/2|\"G\"GB/2d/2 g/2d/2B/2G/2|\\\\\\n\"C\"c/2e/2d/2c/2 \"D7\"B/2A/2G/2F/2|\"D\"AG G:|\\n\\n\\nX: 32\\nT:Sally Gardens\\n% Nottingham Music Database\\nS:via PR\\nM:4/4\\nL:1/4\\nK:G\\nD/2F/2|:\"G\"GD/2G/2 BG/2B/2|d/2B/2e/2B/2 d/2B/2A/2B/2|\"G\"dB/2d/2 \"C\"e/2f/2g/2e/2\\\\\\n|\\n\"D\"d/2B/2A/2B/2 \"Em\"G/2E/2D/2E/2|\"G\"GD/2G/2 BG/2B/2|d/2B/2e/2B/2 d/2B/2A/2B/2|\\n\"G\"dB/2d/2 \"C\"e/2f/2g/2e/2|1\"D\"d/2B/2A/2B/2 \"G\"GD/2F/2:|2\\\\\\n\"D\"d/2B/2A/2B/2 \"G\"GB/2c/2||\\n\"G\"d/2g/2g/2f/2 gd/2g/2|gb/2g/2 a/2g/2e/2d/2|\"Am\"e/2a/2a/2g/2 ae/2g/2|\\\\\\n\"D\"ab/2g/2 a/2g/2e/2g/2|\\n\"G\"d/2g/2g/2f/2 gd/2g/2|gb/2g/2 a/2g/2e/2d/2|\"G\"dB/2d/2 \"C\"e/2f/2g/2e/2|1\\\\\\n\"D\"d/2B/2c/2A/2 \"G\"GB/2c/2:|2\"D\"d/2B/2c/2A/2 \"G\"G||\\n\\n\\nX: 33\\nT:Salmon Tails\\n% Nottingham Music Database\\nS:via PR\\nM:4/4\\nL:1/4\\nK:G\\n\"G\"GE DE|G2 G3/2A/2|\"G\"Bd \"D\"AB/2A/2|\"C\"GE \"D\"DE|\"G\"GE DE|G2 G3/2A/2|\\\\\\n\"G\"Bd \"D7\"AB/2A/2|\"G\"G2 G2:|\\n\"G\"Bd d2|\"C\"ce e2|\"G\"dB \"D\"AB/2A/2|\"C\"GE \"D\"D2|\"G\"Bd d2|\"C\"ce e3/2f/2|\"G\"gf ed\\\\\\n|\"D7\"ef \"G\"g2|\\n\"G\"Bd d2|\"C\"ce e2|\"G\"dB \"D\"AB/2A/2|\"C\"GE \"D\"D2|\"G\"GE DE|G2 G3/2A/2|\\\\\\n\"G\"Bd \"D7\"AB/2A/2|\"G\"G2 G2||\\n\\n\\nX: 34\\nT:Sandy River Belles\\n% Nottingham Music Database\\nS:Version 1, via PR\\nM:4/4\\nL:1/4\\nK:D\\nE|:\"D\"A,/2B,/2D/2E/2 F2|ED BA|\"D\"A,/2B,/2D/2E/2 F2|\"Em\"ED \"A7\"B,A,|\\n\"D\"A,/2B,/2D/2E/2 F2|\"D\"ED \"A7\"BA|\"D\"Ad/2B/2 \"G\"Ad/2B/2|\"A7\"A/2F/2E \"D\"D2::\\n\"D\"Ad/2A/2 B/2A/2F|Af ed|\"D\"Ad/2A/2 B/2A/2F|\"D\"B/2A/2F \"A7\"e2|\\n\"D\"Ad/2A/2 B/2A/2F|\"D\"A/2d/2f/2d/2 \"G\"e/2d/2B/2d/2|\"D\"Ad/2A/2 \"G\"B/2A/2d/2B/2|\\\\\\n\"A7\"A/2F/2E \"D\"D2:|\\n\\n\\nX: 35\\nT:Sandy River Belles\\n% Nottingham Music Database\\nS:Version 2, via PR\\nM:4/4\\nL:1/4\\nK:G\\nF/2E/2|\"G\"D/2E/2G/2A/2 BB/2B/2|\"C\"AG \"D7\"ed|\"G\"D/2E/2G/2A/2 \"Em\"BB/2B/2|\\\\\\n\"Am\"AG \"D7\"ED|\\n\"G\"D/2E/2G/2A/2 BB/2B/2|\"C\"AG \"D7\"ed|\"Em\"d/2e/2g/2e/2 \"C\"d/2e/2g/2e/2|\\\\\\n[1\"D7\"d/2B/2A \"G\"G:|[2\"D7\"d/2B/2A \"G\"G2\\n|:\"G\"d/2e/2g/2e/2 gg/2g/2|bb ag|\"G\"d/2e/2g/2e/2 \"Em\"gg/2g/2|\\\\\\n\"Am\"d/2e/2f/2g/2 \"D7\"az|\\n\"G\"d/2e/2g/2e/2 \"C\"gg/2g/2|\"G\"bb \"Am\"ag|\"G\"d/2e/2g/2e/2 \"C\"d/2e/2g/2e/2|\\\\\\n\"D7\"d/2B/2A \"G\"G2:|\\n\\n\\nX: 36\\nT:Saratoga\\n% Nottingham Music Database\\nS:via PR\\nM:4/4\\nL:1/4\\nK:A\\nc/2d/2|\"A\"e/2^d/2e/2f/2 e/2d/2c/2B/2|A/2a/2g/2a/2 ec|\"D\"df/2e/2 d/2c/2B/2A/2|\\\\\\n\"E7\"G/2A/2B/2G/2 Ec/2d/2|\\n\"A\"e/2^d/2e/2f/2 e/2d/2c/2B/2|\"A\"A/2a/2g/2a/2 ec|\"D\"d/2f/2e/2d/2 c/2B/2A/2G/2|\\\\\\n\"A\"AA A::\\nG/2A/2|\"E\"B/2E/2E B/2E/2d/2E/2|\"A\"c/2E/2E c/2E/2e/2E/2|\"E\"B/2E/2E B/2E/2d/2E/2\\\\\\n|\"A\"c/2A/2E/2C/2 A,c|\\n\"E\"B/2E/2E B/2E/2d/2E/2|\"A\"c/2E/2E c/2E/2e/2E/2|\"D\"d/2f/2e/2d/2 c/2B/2A/2G/2|\\\\\\n\"A\"AA A:|\\n\\n\\nX: 37\\nT:Le Parc de Sceaux\\n% Nottingham Music Database\\nS:Chris Dewhurst, via EF\\nM:4/4\\nL:1/4\\nK:Am\\nP:A\\nA/2B/2|\"Am\"c/2AG/2 AA/2B/2|\"Am\"c/2A/2c/2e/2 a/2e/2d/2c/2|\"G\"B/2GF/2 GG/2A/2|\\\\\\n\"G\"B/2G/2B/2d/2 g/2G/2A/2B/2|\\n\"Am\"c/2AG/2 AA/2B/2|\"Am\"c/2A/2c/2e/2 ae/2f/2|\"C\"g/2f/2g/2e/2 \"G\"d/2B/2G/2B/2|\\\\\\n\"Am\"cA A:|\\nP:B\\nE/2D/2|\"Am\"E/2AG/2 AA/2B/2|\"Am\"c/2A/2e/2A/2 c/2A/2e/2A/2|\"G\"D/2GF/2 GG/2A/2|\\\\\\n\"G\"B/2G/2d/2G/2 e/2G/2d/2G/2|\\n\"Am\"E/2AG/2 AA/2B/2|\"Am\"c/2A/2c/2e/2 ae/2f/2|\"C\"g/2f/2g/2e/2 \"G\"d/2B/2G/2B/2|\\\\\\n\"Am\"cA A:|\\n\\n\\nX: 38\\nT:The Scholar\\n% Nottingham Music Database\\nS:via PR\\nM:4/4\\nL:1/4\\nK:D\\nA|\"D\"d/2f/2a/2f/2 \"A7\"g/2f/2e/2g/2|\"D\"f/2d/2A/2G/2 \"D7\"F/2G/2A/2=c/2|\\\\\\n\"G\"B/2G/2F/2G/2 \"Em\"E/2F/2G/2g/2|\"D\"f/2d/2e/2c/2 \"A7\"d/2c/2B/2A/2|\\n\"D\"d/2f/2a/2f/2 \"A7\"g/2f/2e/2g/2|\"D\"f/2d/2A/2G/2 \"D7\"F/2G/2A/2=c/2|\\\\\\n\"G\"B/2G/2F/2G/2 \"Em\"E/2F/2G/2g/2| [1\"A7\"f/2d/2e/2c/2 \"D\"d:|\\n [2\"A7\"f/2d/2e/2c/2 \"D\"d/2e/2f/2g/2|:\"D\"af/2d/2 d/2f/2a/2f/2|\\\\\\n\"D\"d/2f/2a/2f/2 b/2a/2g/2f/2|\\n\"C\"g/2f/2g/2e/2 =c/2e/2g/2e/2|\"C\"=c/2e/2g/2e/2 a/2g/2f/2e/2|\\\\\\n\"D\"a/2^g/2a/2f/2 d/2f/2a/2f/2|\\n\"D\"d/2f/2a/2f/2 b/2a/2g/2f/2|\"G\"g/2f/2e/2f/2 \"Em\"g/2b/2a/2g/2|\\\\\\n [1\"A7\"f/2d/2e/2c/2 \"D\"d/2e/2f/2g/2:|[2\"A7\"f/2d/2e/2c/2 \"D\"d||\\n\\n\\nX: 39\\nT:Scotland the Brave\\n% Nottingham Music Database\\nS:Kevin Briggs, via EF\\nM:4/4\\nL:1/4\\nK:G\\nP:A\\nD|\"G\"G2 \"C\"G3/2A/2|\"G\"BG Bd|\"G/b\"g2 \"C\"g3/2f/2|\"G/b\"gd BG|\"C\"c2 e3/2c/2|\\\\\\n\"G\"Bd BG|\\n\"Am\"A2 d3/2e/2|\"D7\"dc BA|\"G\"G2 \"C\"G3/2A/2|\"G\"BG Bd|\"G/b\"g2 \"C\"g3/2f/2|\\\\\\n\"G/b\"gd BG|\\n\"C\"c2 e3/2c/2|\"G\"Bd \"Em\"BG|\"Am\"A2 \"D7\"G3/2F/2|\"G\"G2 fg|\"D7\"a2 a3/2a/2|\\\\\\n\"D7\"af d2|\"G\"g2 b3/2a/2|\\n\"G\"gd BG|\"Em\"g2 gg|\"B7\"f2 gf|\"Em\"eg fe|\"D7\"dc BA|\"G\"G2 \"C\"G3/2A/2|\\n\"G\"BG Bd|\"G/b\"g2 \"C\"g3/2f/2|\"G/b\"gd BG|\"C\"c2 e3/2c/2|\"G\"Bd \"Em\"BG|\\\\\\n\"Am\"A2 \"D7\"G3/2F/2|\"G\"G2 G:|\\n\\n\\nX: 40\\nT:Service !\\n% Nottingham Music Database\\nS:Chris Dewhurst (1983), via PR\\nM:4/4\\nL:1/4\\nK:C\\nG\"G7\"A B|\"C\"cc de|dd/2c/2 -c2|\"Dm\"dd eA/2d/2-|\"Dm\"d4|\"G\"ee dd|\\ncc/2B/2 -B2|\"C\"\"e\"dc \"Eb/dim\"BA|\"G\"\"d\"GG/2A/2 B/2c/2d/2^d/2|\"C\"ee de|\\\\\\n\"C7\"dd/2c/2 -c2|\\n\"F\"ee dc|\"Fm\"de/2d/2 -d2|\"C\"\"e\"dc \"Am\"BA|\"D7\"c2 \"G7\"d2|\"C\"c2 -\"F7\"c2|\"C\"cB c^c\\\\\\n||\\n\"D7\"d3/2d/2 ec|d3/2d/2 ec|\"G\"\"d\"dd eB|\"Em\"\"d\"dd eB|\"Am\"\"d\"dd eB|\"D7\"cd e^f|\\\\\\n\"G\"zg2^f|\\n\"Dm\"=fd/2\"G\"B^A/2=A/2G/2|\"C\"cc de|dd/2c/2 -c2|\"D7\"ee dc|de/2d/2 -d2|\\\\\\n\"Dm\"dc BA|\"G7\"e2 e2|\"C\"c4-|c||\\n\\n\\nX: 41\\nT:Seventy Second\\'s Farewell\\n% Nottingham Music Database\\nS:via PR\\nM:4/4\\nL:1/4\\nK:D\\nc/2B/2|\"D\"Ad de/2f/2|g/2f/2e/2d/2 f2|\"Em\"gB Bc/2d/2|\\\\\\n\"A\"e/2f/2e/2d/2 \"A7\"d/2c/2B/2A/2|\\n\"D\"Ad de/2f/2|\"D\"g/2f/2e/2d/2 f2|\"Em\"gB \"A7\"c/2d/2e/2c/2|\"D\"d3::\\nf/2g/2|\"D\"aA A=c|\"G\"BG \"A7\"A3/2B/2|\"D\"Ad d/2c/2d/2e/2|\\n\"A\"fe \"A7\"ef/2g/2|\"D\"aA A=c|\"G\"BG \"A7\"A3/2B/2|\"D\"Ad \"A7\"f/2e/2d/2c/2|\"D\"d3:|\\n\\n\\nX: 42\\nT:Munster Hop\\n% Nottingham Music Database\\nS:Sharon Shannon/6 arr Eric\\nM:4/4\\nL:1/4\\nK:G\\n|:g/2e/2|\"G\"d/2B/2g/2e/2 d/2B/2A/2G/2|\"Am\"B/2A/2A/2B/2 Ad/2e/2|\\\\\\n\"D\"d3/2e/2 d/2B/2A/2G/2|\"G\"B/2G/2G/2G/2 Gg/2e/2|\\n\"G\"d/2B/2g/2e/2 d/2B/2A/2G/2|\"Am\"B/2A/2A/2B/2 AE/2D/2|\"C\"C/2E/2A/2B/2 A3/2B/2|\\\\\\n\"D7\"AG \"G\"G::\\ng/2a/2|\"Em\"b2 b/2a/2g/2b/2|\"C\"ag g2|\"C\"eg/2e/2 \"G/b\"d/2e/2g/2a/2|\\\\\\n\"Am\"ba \"D\"ag/2a/2|\\n\"Em\"b2 b/2a/2g/2b/2|\"C\"ag g2|\"C\"eg/2e/2 \"G/b\"d/2B/2A/2d/2|\"D/a\"BG \"G\"G:|\\n\\n\\nX: 43\\nT:The Happy One-Step\\n% Nottingham Music Database\\nP:AABABA\\nS:Sharon Shannon/2 arr Eric\\nM:4/4\\nL:1/4\\nK:G\\nP:A\\nG/2B/2|\"G\"d/2G/2B/2d/2 -d/2G/2B/2d/2|\"C\"g/2c/2e/2g/2 -g/2a/2g/2e/2|\\\\\\n\"G\"d/2G/2B/2d/2 -d/2G/2A/2B/2|\"D\"A/2G/2G/2E/2 D/2D/2G/2B/2|\\n\"G\"d/2G/2B/2d/2 -d/2G/2B/2d/2|\"C\"g/2c/2e/2g/2 -g/2a/2g/2e/2|\\\\\\n\"G\"d/2B/2A/2G/2 \"C\"A/2G/2E/2D/2|\"C\"E/2G/2G/2G/2 -\"G\"G:|\\nP:B\\ng/2a/2|\"G\"b/2d/2b/2b/2 -b/2d/2b|\"D\"a/2d/2a/2a/2 -a/2d/2a|\\\\\\n\"Em\"b/2d/2b/2b/2 -b/2d/2b|\"C\"c\\'/2e/2c\\'/2c\\'/2 -c\\'/2e/2c\\'|\\n\"G\"b/2d/2b/2b/2 -b/2d/2g/2b/2|\"D\"a/2d/2a/2a/2 -a/2d/2a|\\\\\\n\"Em\"b/2d/2b/2b/2 -b/2d/2b|\"c\"c\\'/2d/2\"b\"b/2d/2 \"a\"a/2d/2\"d\"g/2e/2||\\n\\n\\nX: 44\\nT:Shepton Reel\\n% Nottingham Music Database\\nS:Kevin Briggs, via EF\\nM:4/4\\nL:1/4\\nK:G\\nP:A\\nD|\"G\"G/2A/2B/2c/2 dd/2B/2|\"C\"ce \"D7\"d3/2B/2|\"G\"G/2A/2B/2c/2 dd/2B/2|\\\\\\n\"Am\"\"C\"ce \"D7\"\"D\"A2|\\n\"G\"\"Em\"G/2A/2B/2c/2 dd/2B/2|\"C\"ce \"D\"d3/2B/2|\"Em\"G/2A/2B/2c/2 \"D7\"dd/2c/2|\\\\\\n\"G\"BG G:|\\nP:B\\nd|\"G\"gg g/2a/2g/2f/2|\"C\"ec c/2d/2c/2B/2|\"A7\"Aa a/2b/2a/2g/2|\"D7\"fd de/2f/2|\\n\"G\"g/2a/2g/2f/2 \"C\"ea/2g/2|\"A7/c+\"f/2g/2f/2e/2 \"D7\"de/2f/2|\\\\\\n\"G\"gB \"C\"c/2e/2d/2c/2|\"G\"BG G:|\\n\\n\\nX: 45\\nT:Silver and Gold\\n% Nottingham Music Database\\nS:Ken McDouall, via EF\\nM:4/4\\nL:1/4\\nK:D\\nfg |\"D\"a2 fd|\"D\"A2 df|\"Em\"ag2f|\"Em\"g2 ef|\"A7\"g2 ec|\"A7\"A2 ce|\\n\"D\"ba -\"A7\"a^g|\"D\"a2 \"A7\"fg|\"D\"a2 fd|\"D\"A2 df|\"G\"ag2f|\"Em\"g2 ef|\"A7\"g2 ec|\\n\"A7\"A2 ce|\"D\"d3/2e/2 \"A7\"dc|\"D\"d2 \"G\"cB|\"D\"Af Af|\"D\"A/2ff/2 ff|\"Em\"fe2^d|\\n\"Em\"e2 EF|\"A7\"Ge Ge|\"A7\"G/2ee/2 ee|\"D\"ed -\"A7\"dc|\"D\"d2 \"A7\"FG|\"D\"Af Af|\\n\"D7\"A/2ff/2 ff|\"G\"ag2e|\"Em\"B2 cd|\"A7\"fe2c|\"A7\"A2 ce|\"D\"d3/2e/2 \"A7\"dc|\"D\"d2 ||\\n\\n\\nX: 46\\nT:Sir Sidney Smith\\n% Nottingham Music Database\\nS:NPTB, via EF\\nM:4/4\\nL:1/4\\nK:G\\nP:A\\nB/2c/2|\"G\"dd d\"b\"d|\"c\"e\"b\"d \"a\"c\"g\"B|\"C\"d/2c/2B/2c/2 \"D7\"Ad/2c/2|\\\\\\n\"G\"B/2c/2\"D\"A/2B/2 \"G\"Gd/2c/2|\\n\"G\"B/2d/2B/2d/2 \"D/f+\"A/2d/2A/2d/2|\"Em\"G/2d/2G/2d/2 \"Bm\"Fd/2c/2|\\\\\\n\"Em\"B/2c/2d/2e/2 \"A7/c+\"d^c|\"D\"d3:|\\nP:B\\nA/2G/2|\"D\"F/2D/2\"c\"F/2A/2 \"b\"d/2A/2\"a\"B/2c/2|\"G\"B3d/2c/2|\\\\\\n\"G7\"B/2G/2\"f\"B/2d/2 \"e\"g/2d/2\"d\"e/2=f/2|\"C\"e3g/2f/2|\\n\"C\"e/2g/2e/2g/2 \"G/b\"d/2g/2d/2g/2|\"D/a\"c/2g/2c/2g/2 \"G\"B/2g/2B/2g/2|\\\\\\n\"C\"e/2g/2e/2g/2 \"G/b\"d/2g/2d/2g/2|\\n\"D/a\"c/2g/2c/2g/2 \"G\"B/2g/2B/2g/2|\"c\"e\"b\"d \"a\"c\"g\"B|\"c\"e\"b\"d \"a\"c\"g\"B|\\\\\\n\"c\"e\"b\"d \"a\"c\"g\"B|\"C\"B\"A7/c+\"A \"D7\"AB/2c/2|\\n\"G\"\"Em\"dd2d|\"c\"e\"b\"d \"a\"c\"g\"B|\"C\"d/2c/2B/2c/2 \"D7\"Ad/2c/2|\\\\\\n\"G\"B/2c/2\"D\"A/2B/2 \"G\"Gd/2c/2|\"G\"B/2d/2B/2d/2 \"D/f+\"A/2d/2A/2d/2|\\n\"Em\"G/2d/2G/2d/2 \"D\"F/2d/2F/2d/2|\"C\"E/2d/2E/2d/2 \"D\"F/2d/2F/2d/2|\\\\\\n\"Em\"G/2d/2G/2d/2 \"D/f+\"A/2d/2A/2d/2|\\n\"C\"E/2d/2E/2d/2 \"D\"F/2d/2F/2d/2|\"Em\"G/2d/2G/2d/2 \"D/f+\"A/2d/2A/2d/2|\\\\\\n\"C\"c/2e/2d/2c/2 \"D7\"B/2G/2A/2F/2|\"G\"G3:|\\n\\n\\nX: 47\\nT:Slow March for Pipers\\n% Nottingham Music Database\\nP:ABB\\nS:AA, via EF\\nM:4/4\\nL:1/4\\nK:D\\nP:A\\na/2g/2|\"D\"fd \"A7\"c/2d/2e/2c/2|\"D\"d3A/2B/2|\"C\"=c2 c/2B/2c/2d/2|\\\\\\n\"G\"BG \"A7\"Aa/2g/2|\"D\"fd \"A7\"c/2d/2e/2c/2|\\n\"D\"dA F/2G/2A/2F/2|\"D\"D/2a/2g/2f/2 \"A7\"ed/2c/2|\"D\"d2 -\"A7\"da/2g/2|\\\\\\n\"D\"fd \"A7\"c/2d/2e/2c/2|\"D\"d3A/2B/2|\\n\"C\"=c2 c/2B/2c/2d/2|\"G\"BG \"D\"AF/2G/2|\"D\"Ad \"D7\"=c/2A/2G/2F/2|\\\\\\n\"G\"G2 -\"A7\"GF/2G/2|\"D\"A/2a/2g/2f/2 \"A7\"ed/2c/2|\"D\"d3||\\nP:B\\nF/2G/2|\"D\"Ad dc/2d/2|\"A\"e3d|\"C\"A/2B/2=c/2d/2 \"G\"BG|\"D\"A2 -\"A7\"AF/2G/2|\\n\"D\"Ad dc/2d/2|\"D\"ed dA/2B/2|\"C\"=cg \"A7\"f/2e/2d/2^c/2|\"D\"d3:|\\n\\n\\nX: 48\\nT:So-so Polka\\n% Nottingham Music Database\\nS:Lesley Dolman, via EF\\nM:2/2\\nK:G\\nP:A\\n\"G\"D2B2 BAG2|\"G\"D2B2 BAG2|\"G\"D2B2 BAG2|\"D7\"d2F2 F4|\"D7\"D2c2 cBA2|\\n\"D7\"D2c2 cBA2|\"D7\"D2c2 cBA2|\"G\"e2B2 B4|\"G\"D2B2 BAG2|\"G\"D2B2 BAG2|\\n\"G7\"d3B A2G2|\"C\"f2e2 e4|\"Am\"e2A2 \"D7\"ABc2|\"G\"d2G2 GAB2|\"D7\"c2D2 DFA2|\"G\"G4 G4\\\\\\n:|\\nK:D\\nP:B\\nde|\"D\"f3d A2F2|\"G\"G2B2 BcB2|\"D\"A2d2 ded2|\"A7\"gfe2 d3e|\\n\"D\"f3d A2F2|\"G\"G2B2 BcB2|\"A7\"a2gf efe2|\"D\"d2f2 d4:|\\n\\n\\nX: 49\\nT:Soldiers\\' Joy\\n% Nottingham Music Database\\nS:Kevin Briggs, via EF\\nM:4/4\\nL:1/4\\nK:D\\nP:A\\nF/2G/2|\"D\"A/2F/2D/2F/2 A/2F/2D/2F/2|\"D\"Ad \"G\"dc/2B/2|\\\\\\n\"D\"A/2F/2D/2F/2 A/2F/2D/2F/2|\"E7\"GE \"A7\"EF/2G/2|\\n\"D\"A/2F/2D/2F/2 A/2F/2D/2F/2|\"D\"Ad \"G\"dg|\"D/a\"f/2a/2f/2d/2 \"A7\"e/2g/2e/2c/2|\\\\\\n\"D\"ed d:|\\nP:B\\nd/2e/2|\"D\"ff/2d/2 f/2a/2g/2f/2|\"A7\"ee/2c/2 e/2g/2f/2e/2|\\\\\\n\"D\"ff/2d/2 f/2a/2g/2f/2|\"E7\"\"G\"e/2d/2c/2B/2 \"A7\"\"A\"Ad/2e/2|\\n\"D\"\"Bm\"f/2d/2f/2d/2 f/2a/2g/2f/2|\"Em\"e/2c/2e/2c/2 \"A7\"e/2g/2f/2e/2|\\\\\\n\"D\"f/2a/2f/2d/2 \"A7\"e/2g/2e/2c/2|\"D\"ed d:|\\n\\n\\nX: 50\\nT:Spanish Dance\\n% Nottingham Music Database\\nS:Thomas Hardy Collection via Yetties, via PR\\nM:2/4\\nL:1/4\\nK:G\\n\"(D7)\"d |\"G\"g/2g/2 \"C\"a/4g/4f/4e/4|\"G\"d/2d/2 \"C\"e/4d/4c/4B/4|\\\\\\n\"C\"c/2c/2 \"G\"B/2B/2|\"D\"d/4e/4d/4c/4 \"G\"B/2d/2|\\n\"Em\"g/2g/2 \"Am\"a/4g/4f/4e/4|\"D\"d/2d/2 \"C\"e/4d/4c/4B/4|\"Am\"c/2c/2 \"D\"B/2A/2|\\\\\\n\"G\"G ::\\nB3/4c/4 |\"G\"d/2B/2 d/2B/2|\"G\"d/4e/4g/4f/4 e/4d/4c/4B/4|\"Am\"c/2A/2 c/2A/2|\\n\"D\"d/4e/4d/4c/4 \"G\"B/2d/4c/4|\"G\"B/2B/2 \"C\"c/2c/2|\"G\"d/2d/2 \"C\"e/2e/2|\\\\\\n\"D\"f/2f/2 f/4g/4a/4f/4|\"G\"g :|\\nf|:\"Em\"e \"B\"^d|\"Em\"e/2g/2 b|\"Am\"a3/4g/4 f/2e/2|\"B7\"^d/2f/4d/4 B/2B/2|\\\\\\n\"Em\"e \"B\"^d|\"Em\"e/2g/2 b|\"Em\"g/2f/4e/4 \"B7\"f/2e/4^d/4|\"Em\"e2:|\\n\\n\\nX: 51\\nT:Speed The Plough\\n% Nottingham Music Database\\nS:FTB 1/8, via EF\\nM:4/4\\nL:1/4\\nK:A\\nP:A\\nE|\"A\"A/2B/2c/2d/2 e/2f/2e/2c/2|\"A\"e/2a/2e/2c/2 e/2f/2e/2c/2|\\\\\\n\"D\"d/2f/2d/2B/2 \"A\"c/2e/2c/2A/2|\"Bm\"B/2c/2d/2c/2 \"E7\"B/2G/2E/2G/2|\\n\"A\"A/2B/2c/2d/2 e/2f/2e/2c/2|\"A\"e/2a/2e/2c/2 e/2f/2e/2c/2|\\\\\\n\"E7/b\"d/2e/2\"a\"c/2e/2 \"g#\"B/2e/2\"f#\"A/2e/2|\"E7\"E/2G/2B/2G/2 \"A\"A:|\\nP:B\\ne|\"F#m\"a(3b/2a/2g/2 a/2A/2c/2e/2|\"A\"ag/2f/2 e/2c/2A|\\\\\\n\"D\"d/2f/2d/2B/2 \"A\"c/2e/2c/2A/2|\"Bm\"B/2c/2d/2c/2 \"E7\"B/2G/2E|\\n\"A\"(3c/2B/2A/2e/2A/2 f/2A/2e/2A/2|\"D\"f/2g/2a/2f/2 \"A\"e/2c/2A/2c/2|\\\\\\n\"D\"d/2e/2c/2e/2 \"A\"B/2e/2A/2e/2|\"E7\"E/2G/2B/2G/2 \"A\"A:|\\n\\n\\nX: 52\\nT:Spence\\'s Tent\\n% Nottingham Music Database\\n%P:AAB\\nS:James Hill, via EF\\nM:4/4\\nL:1/4\\nK:B\\nF/2A/2|BA/2c/2 B/2c/2d/2e/2|f=e/2g/2 f/2_e/2c/2A/2|B/2b/2f/2d/2 c/2g/2e/2c/2|\\\\\\nA/2e/2c/2A/2 FB/2A/2|\\nBA/2c/2 B/2c/2d/2e/2|f=e/2g/2 f/2_e/2c/2A/2|B/2b/2f/2d/2 c/2g/2e/2c/2|\\\\\\nA/2e/2c/2A/2 B::\\nF/2E/2|D/2F/2 !trill!  F B/2c/2d/2e/2|f/2B/2g/2B/2 a/2B/2b/2B/2|c/2e/2g/2f/2 e/2d/2c/2B/2|\\\\\\n [1Ac cF/2E/2|\\nD/2F/2F B/2c/2d/2e/2|f/2B/2g/2B/2 a/2B/2b/2B/2|c/2e/2g/2f/2 e/2d/2c/2B/2|cB B\\\\\\n:|2B/2A/2|\\nB/2b/2f/2d/2 B/2a/2e/2c/2|A/2e/2c/2A/2 FG/2A/2|B/2e/2g/2e/2 d/2c/2B/2A/2|cB B\\\\\\n:|\\n\\n\\nX: 53\\nT:St Anne\\'s (V)\\n% Nottingham Music Database\\nS:Vancouver, via EF\\nM:4/4\\nL:1/4\\nK:D\\nP:A\\nd/2e/2|\"D\"f3/2g/2 \"G\"f/2e/2d/2B/2|\"D\"A/2A/2A/2F/2 AA/2d/2|\\\\\\n\"G\"B/2G/2G/2G/2 GG/2B/2|\"D\"A/2F/2F/2F/2 Fd/2e/2|\\n\"D\"f3/2g/2 \"G\"f/2e/2d/2B/2|\"D\"A/2A/2A/2F/2 AA/2d/2|\\\\\\n\"G\"B/2G/2B/2d/2 \"A7\"c/2A/2B/2c/2|\"D\"dd d::\\nP:B\\na/2g/2|\"D\"f/2d/2f/2a/2 f/2d/2f/2a/2|\"Em\"a/2gf/2 g3/2f/2|\\\\\\n\"A7\"e/2c/2e/2g/2 e/2c/2e/2g/2|\"D\"b/2a^g/2 \"A\"a3/2g/2|\\n\"D\"\"Bm\"f/2d/2f/2a/2 f/2d/2f/2a/2|\"Em\"a/2gf/2 g3/2f/2|\\\\\\n\"A7\"e/2c/2e/2g/2 e/2c/2e/2g/2|\"A7\"f/2d/2e/2c/2 \"D\"d:|\\n\\n\\nX: 54\\nT:St Anne\\'s (L)\\n% Nottingham Music Database\\nS:AlyB via Lesley, via EF\\nM:4/4\\nL:1/4\\nK:D\\nP:A\\nd/2e/2|\"D\"f/2e/2d/2c/2 \"G\"e/2d/2c/2B/2|\"D\"AF/2A/2 D/2F/2A/2D/2|\\\\\\n\"G\"B/2G/2D/2G/2 B/2D/2G/2B/2|\"D\"AD/2F/2 A/2F/2A/2d/2|\\n\"D\"f/2e/2d/2c/2 \"G\"e/2d/2c/2B/2|\"D\"AF/2A/2 D/2F/2A/2D/2|\\\\\\n\"G\"B/2G/2B/2d/2 \"A7\"c/2A/2c/2e/2|\"D\"d/2e/2f/2e/2 d::\\nP:B\\na/2g/2|\"D\"f/2d/2f/2a/2 f/2d/2f/2a/2|\"Em\"a/2gf/2 g3/2f/2|\\\\\\n\"A7\"e/2c/2e/2g/2 e/2c/2e/2g/2|\"D\"b/2a^g/2 \"A\"a3/2g/2|\\n\"D\"\"Bm\"f/2d/2f/2a/2 f/2d/2f/2a/2|\"Em\"a/2gf/2 g3/2f/2|\\\\\\n\"A7\"e/2c/2e/2g/2 e/2c/2e/2g/2|\"A7\"f/2d/2e/2c/2 \"D\"d:|\\n\\n\\nX: 55\\nT:Set De La Baie St Paul\\n% Nottingham Music Database\\nS:French Canadian, via PR\\nM:4/4\\nL:1/4\\nK:D\\nA|\"D\"ff fe|dd dc/2d/2|\"G\"ed cd|\"Em\"B2 Bc/2d/2|\"A\"e/2e/2e/2e/2 ed|\\\\\\nc/2c/2c/2c/2 cB|\"A7\"Ag fe| [1\"D\"f3:|\\n [2\"D\"d3:|F/2G/2|\"D\"A/2B/2A/2F/2 DF/2G/2|A/2B/2A/2F/2 DF/2G/2|\"D\"Ad cd|\\n\"Em\"E2 zE/2F/2|\"A\"G/2F/2E/2D/2 CE/2F/2|G/2F/2E/2D/2 CE/2F/2| [1\"G\"GB \"A\"AG|\\\\\\n\"D\"F2 z:|[2\"G\"GB \"A\"AC|\"D\"D2 z||\\n\\n\\nX: 56\\nT:Staten Island\\n% Nottingham Music Database\\nS:Kevin Briggs, via EF\\nM:4/4\\nL:1/4\\nK:D\\nP:A\\nA/2G/2|\"D\"F/2D/2F/2G/2 AA|\"D\"d/2f/2e/2d/2 d/2c/2B/2A/2|\"G\"BG/2B/2 \"D\"AF/2A/2|\\\\\\n\"Em\"GE \"A7\"EA/2G/2|\\n\"D\"F/2D/2F/2G/2 AA|\"D\"d/2f/2e/2d/2 d/2c/2B/2A/2|\"G\"dd \"A7\"e/2f/2g/2e/2|\"D\"fd d\\\\\\n:|\\nP:B\\nf/2g/2|\"D\"af/2a/2 \"A\"ge/2g/2|\"D\"fd/2f/2 \"A\"e/2c/2A|\"C\"=cc e/2f/2g/2e/2|\\\\\\n\"C\"=cc e/2f/2g/2e/2|\\n\"D\"af/2a/2 \"A\"ge/2g/2|\"D\"fd/2f/2 \"A\"e/2c/2A|\"D\"dd \"A7\"e/2f/2g/2e/2|\"D\"fd d:|\\n\\n\\nX: 57\\nT:Storrers\\n% Nottingham Music Database\\nS:Nan F-W, via EF\\nM:4/4\\nL:1/4\\nK:A\\nP:A\\ne/2d/2|\"A\"cA A/2c/2B/2A/2|\"E\"GE E3/2E/2|\"B7\"^DB B/2c/2B/2A/2|\"E7\"GE E e/2d/2|\\n\"A\"cA A/2c/2B/2A/2|\"Bm\"G/2A/2B/2c/2 \"A7\"d/2e/2f/2g/2|\\\\\\n\"A\"a/2e/2c/2e/2 \"E7\"B/2f/2e/2d/2|\"A\"cA A:|\\nK:A\\nP:B\\nc/2e/2|\"A\"f/2e/2c/2e/2 a/2g/2f/2e/2|\"A\"fe ec/2e/2|\"A\"f/2e/2c/2e/2 a/2g/2f/2e/2\\\\\\n|\"E7\"dB Be|\\n\"A\"f/2e/2c/2e/2 a/2g/2f/2e/2|\"D\"f/2e/2f/2g/2 a/2g/2f/2e/2|\\\\\\n\"A\"d/2c/2B/2A/2 \"E7\"G/2B/2e/2d/2|\"A\"cA A:|\\n\\n\\nX: 58\\nT:Sugar in my Coffee-o\\n% Nottingham Music Database\\nP:AAB\\nS:Lynn Rohrbough, via EF\\nM:4/4\\nL:1/4\\nK:G\\nP:A\\n\"G\"GG A/2BA/2|\"G\"Bd \"D7\"dB/2A/2|\"G\"GG A/2BG/2|\"D7\"AG \"G\"G2:|\\nP:B\\n\"G\"gg \"C\"g/2a/2g/2e/2|\"G\"dB \"D7\"d3/2e/2|\"G\"gg gg/2a/2|\"A7\"ba \"D7\"a2|\\n\"G\"gg \"C\"g/2a/2g/2e/2|\"G\"dB \"D7\"dB/2A/2|\"G\"GG G/2A/2B/2G/2|\"D7\"AG \"G\"G2||\\n\\n\\nX: 59\\nT:Sugar in the Gourd\\n% Nottingham Music Database\\nS:Lynn Rohrbough, via EF\\nM:4/4\\nL:1/4\\nK:A\\nP:A\\n\"A\"c/2B/2A/2G/2 EC|\"A\"E/2F/2A \"E7\"B2|\"A\"c/2B/2A/2G/2 EC|\"D\"E/2F/2A \"A\"A2:|\\nP:B\\n\"A\"ce/2f/2 ec|\"A\"B/2c/2e \"A7\"e2|\"D\"ff/2g/2 fe|\"E7\"B/2c/2e e2|\\n\"D\"ab/2a/2 \"A\"f/2e/2c|\"A\"e/2f/2e \"E7\"c2|\"F#m\"AB/2c/2 \"Bm\"B/2A/2F|\\\\\\n\"E7\"E/2F/2A \"A\"A2:|\\n\\n\\nX: 60\\nT:Good Old Summertime\\n% Nottingham Music Database\\nS:Kevin Briggs, via EF\\nM:4/4\\nL:1/4\\nK:G\\nde |\"G\"d2 B2|\"G\"dg3|\"G\"b4-|\"G7\"b2 ag|\"C\"g3a|\"C\"g2 e2|\"G\"d4-|\"D7\"de dc|\\n\"G\"B2 d2|\"G\"g2 a2|\"B7\"b2 ag-|\"Em\"g3g|\"A7\"e2 \"g\"a2|\"A7/f+\"ab -\"e\"b2|\\\\\\n\"D7\"a2 -\"c\"a2|\"D7/b\"a2 \"a\"dc|\\n\"G\"B2 d2|\"G\"g2 a2|\"G\"b2 ag-|\"G7\"g3g|\"C\"g3a|\"C\"g2 e2|\"G\"d4-|\"D7\"de dc|\\n\"G\"B2 d2|\"G\"g2 a2|\"B7\"b2 ag-|\"Em\"g2 d^d|\"A7\"e2 g2|\"D7\"g2 a2|\"G\"g2 -\"C\"g2|\\\\\\n\"G\"g2 ||\\n\\n\\nX: 61\\nT:Miss Supertest\\'s Victory Reel\\n% Nottingham Music Database\\nS:Peter Durber, via EF\\nM:4/4\\nL:1/4\\nK:D\\nP:A\\nd/2e/2|\"D\"f/2d/2A/2d/2 \"A\"e/2c/2A/2c/2|\"G\"B/2G/2D/2G/2 \"D\"A/2F/2D/2F/2|\\\\\\n\"G\"B/2G/2D/2G/2 \"D\"A/2F/2D/2F/2|\"A\"E/2A/2\"E7\"^G/2B/2 \"A7\"A/2c/2e/2=g/2|\\n\"D\"f/2d/2A/2d/2 \"A\"e/2c/2A/2c/2|\"G\"B/2G/2D/2G/2 \"D\"A/2F/2D/2F/2|\\\\\\n\"G\"B/2G/2D/2G/2 \"D\"A/2d/2f/2a/2|\"A7\"g/2e/2c/2A/2 \"D\"d:|\\nK:A\\nP:B\\nc/2d/2|\"A\"e/2c/2A/2c/2 f/2c/2A/2c/2|\"A\"e/2c/2a/2c/2 e/2c/2A/2c/2|\\\\\\n\"A\"e/2c/2A/2c/2 f/2c/2A/2c/2|\"A\"e/2c/2e/2c/2 \"E7\"Bc/2d/2|\\n\"A\"e/2c/2A/2c/2 f/2c/2A/2c/2|\"E\"g/2e/2f/2g/2 \"A\"aa/2e/2|\\\\\\n\"D\"f/2a/2g/2f/2 \"E7\"e/2d/2c/2B/2|\"A\"AA/2A/2 A:|\\n\\n\\nX: 62\\nT:Miss Susan Cooper\\n% Nottingham Music Database\\nS:via PR\\nM:4/4\\nL:1/4\\nK:D\\n(3A/2B/2c/2|\"D\"d/2f/2e/2d/2 \"G\"Bd/2B/2|\"D\"B/2A/2F/2A/2 D/2A/2F/2A/2|\\\\\\nA/2B/2d/2e/2 f/2a/2^g/2a/2|\"Em\"gf/2d/2 \"A7\"e/2A/2c/2e/2|\\n\"D\"d/2f/2e/2d/2 \"G\"Bd/2B/2|\"D\"B/2A/2F/2A/2 D/2A/2F/2A/2|\\\\\\n\"D\"A/2B/2d/2e/2 \"D\"\"f#\"f/2a/2f/2d/2|\"A7\"e/2A/2c/2e/2 \"D\"d::\\nd/2c/2|\"Bm\"B/2c/2d/2e/2 f/2B/2B/2c/2|\"Bm\"d/2e/2f/2^g/2 \"E7\"ag/2f/2|\\\\\\n\"A\"e/2A/2c/2e/2 a^g/2a/2|\"A7\"gf/2d/2 e/2A/2c/2e/2|\\n\"D\"d/2f/2e/2d/2 \"G\"Bd/2B/2|\"D\"B/2A/2F/2A/2 D/2A/2F/2A/2|\\\\\\n\"D\"A/2B/2d/2e/2 \"Bm\"f/2a/2f/2d/2|\"A7\"e/2A/2c/2e/2 \"D\"d:|\\n\\n\\nX: 63\\nT:Oh Susanna\\n% Nottingham Music Database\\nS:via PR\\nM:2/4\\nL:1/4\\nK:G\\nG/4A/4|\"G\"B/2d/2 d3/4e/4|d/2B/2 G/2A/2|B/2B/2 A/2G/2|\"D\"A3/2G/4A/4|\\\\\\n\"G\"B/2d/2 d3/4e/4|\"G\"d/2B/2 G/2A/2|\"G\"B/2B/2 \"D7\"A/2A/2|\"G\"G2::\\n\"C\"c c|e/2e/2 -e/2e/2|\"G\"d/2d/2 B/2G/2|\"D7\"A3/2G/4A/4|\"G\"B/2d/2 d3/4e/4|\\\\\\nd/2B/2 G/2A/2|\"G\"B/2B/2 \"D7\"A/2A/2|\"G\"G2:|\\n\\n\\nX: 64\\nT:The Swallow\\'s Tail\\n% Nottingham Music Database\\nS:via PR\\nM:4/4\\nL:1/4\\nK:G\\ng/2f/2|\"Am\"e/2A/2(3A/2A/2A/2 e/2A/2c/2A/2|\"Em\"B/2d/2e/2f/2 \"D7\"g/2e/2d/2B/2|\\\\\\n\"G\"GB/2G/2 d/2G/2B/2G/2|\"G\"B/2d/2e/2f/2 \"Em\"gf/2g/2|\\n\"Am\"e/2A/2(3A/2A/2A/2 e/2f/2e/2d/2|\"A\"^c/2d/2e/2f/2 \"Em\"g/2f/2g/2b/2|\\\\\\n\"D7\"a/2f/2g/2e/2 \"G\"d/2B/2G/2B/2|\"Em\"A/2c/2B/2G/2 \"Am\"A::\\nB/2d/2|\"Am\"e/2a/2a/2g/2 a/2b/2a/2g/2|\"D7\"e/2d/2e/2f/2 \"G\"g/2e/2d/2B/2|\\\\\\n\"G\"GB/2G/2 d/2G/2B/2G/2|\"G\"B/2d/2e/2f/2 \"Em\"gf/2g/2|\\n\"Am\"a/2g/2a/2b/2 \"Em\"a/2g/2e/2d/2|\"A\"^c/2d/2e/2f/2 \"Em\"g/2f/2g/2b/2|\\\\\\n\"D\"a/2f/2g/2e/2 \"G\"d/2B/2G/2B/2|\"Em\"A/2c/2B/2G/2 \"Am\"A:|\\n\\n\\nX: 65\\nT:Swannee\\n% Nottingham Music Database\\nS:Kevin Briggs, via EF\\nM:4/4\\nL:1/4\\nK:D\\nDE |\"D\"F2 FD|\"A7\"E2 EC|\"D\"D2 \"A7\"E2||\"D\"F4|\"A7\"ED FE|\"D\"D2 d2|\"G\"Bd -d2|\"D\"A4|\\\\\\n\"Bm\"F2 D2|\\n\"E7\"Ed cB|\"A7\"AG FE|\"D\"F4|\"A7\"ED FE|\"D\"D2 d2|\"G\"Bd -d2|\"D\"A2 FD|\"A7\"E2 FE|\\\\\\n\"D\"D4-|\"D\"D2 ||\\nDE |\"D\"FF FF|\"D\"FE DE|\"D\"FF FF|\"D\"F2 GF|\"A7\"EE EE|\"A7\"EF GA|\"A7\"EG FE|\\n\"D\"D2 \"A7\"FG|\"D\"A2 d2|\"D7\"A3F|\"G\"GF GA|\"G\"B2 cB|\"A7\"A2 cB|\"A7\"A2 cB|\"A7\"AG FE|\\\\\\n\"D\"D2 :|\\n\\n\\nX: 66\\nT:English Dance\\n% Nottingham Music Database\\nS:Swedish, via EF\\nM:4/4\\nL:1/4\\nK:D\\nP:A\\nF/2G/2|\"D\"D/2E/2F/2G/2 A/2G/2F/2G/2|\"D\"AB/2c/2 dd|\"D\"D/2E/2F/2G/2 A/2G/2F/2G/2\\\\\\n|\"A\"EA EA|\\n\"D\"D/2E/2F/2G/2 A/2G/2F/2G/2|\"D\"AB/2\"G\"c/2 dg|\\\\\\n\"D/a\"f/2a/2f/2d/2 \"A7\"e/2g/2e/2c/2|\"D\"ed d:|\\nP:B\\nd/2e/2|\"D\"ff/2d/2 f/2a/2g/2f/2|\"A7\"ee/2c/2 e/2g/2f/2e/2|\\\\\\n\"D\"ff/2d/2 f/2a/2g/2f/2|\"E7\"e/2d/2c/2B/2 \"A\"Ad/2g/2|\\n\"D\"\"Bm\"ff/2d/2 f/2a/2g/2f/2|\"Em\"ee/2c/2 \"A7\"e/2g/2f/2e/2|\\\\\\n\"D\"f/2a/2f/2d/2 \"A7\"e/2g/2e/2c/2|\"D\"ed d:|\\n\\nX: 67\\nT:Swedish Masquerade\\n% Nottingham Music Database\\nS:Kevin Briggs, via EF\\nM:4/4\\nL:1/4\\nK:G\\nP:A\\nD|\"G\"G2 G3/2G/2|\"G\"G2 \"D7\"Ac|\"G\"B2 B3/2B/2|\"G\"B2 \"C\"ce|\"G\"ed Bd|\"D7\"dc AF|\\\\\\n\"G\"G2 \"C\"G3/2G/2|1\"G\"GD \"D7\"B,:|2\"G\"G3:|\\nM:3/4\\nL:1/4\\n|:\\\\\\nP:B\\nB/2c/2|\"G\"dBg/2e/2|\"G\"dBe/2d/2|\"D7\"cAB/2A/2|\"G\"G/2F/2G/2A/2B/2c/2|\"G\"dBg/2e/2|\\\\\\n\"G\"dBe/2d/2|\"D7\"cAF|\"G\"G2:|\\nM:4/4\\nL:1/4\\nP:C\\n|:B/2c/2 |\"G\"dB ge|\"G\"dB GB|\"D7\"dc Ac|\"G\"ed BB/2c/2|\"G\"dB ge|\"G\"dB GB|\"D7\"dc AF|\\\\\\n\"G\"G3 :|\\n\\n\\nX: 68\\nT:The Swiss Boy\\n% Nottingham Music Database\\nS:Thomas Hardy Collection, via PR\\nM:4/4\\nL:1/4\\nK:D\\nF/2G/2|\"D\"AF/2G/2 AF/2G/2|Af/2e/2 dF/2A/2|\"A\"Ge/2d/2 c/2A/2G/2c/2|\\\\\\n\"D\"d/2A/2\"A\"e/2A/2 \"D\"fF/2G/2|\\n\"D\"AF/2G/2 AF/2G/2|\"D\"Af/2e/2 dF/2A/2|\"A\"Ge/2d/2 c/2A/2B/2c/2|\"D\"d2 d::\\nF/2A/2|\"A7\"GG/2F/2 GA/2G/2|\"D\"F/2A/2d/2e/2 fF/2A/2|\"A7\"GG/2F/2 GA/2G/2|\\\\\\n\"D\"F/2A/2d/2e/2 fF/2G/2|\\n\"D\"AF/2G/2 AF/2G/2|\"D\"Af/2e/2 dF/2A/2|\"A\"Ge/2d/2 c/2A/2B/2c/2|\"D\"d2 d:|\\n\\n\\nX: 69\\nT:Teetotaller\\'s Reel\\n% Nottingham Music Database\\nS:Kerrs/Eric Foxley\\nM:4/4\\nL:1/4\\nK:G\\nP:A\\n(3D/2E/2F/2|\"G\"GG/2F/2 G/2A/2B/2c/2|\"G\"d/2B/2e/2B/2 d/2B/2A/2G/2|\\\\\\n\"Em\"B/2E/2E/2D/2 E/2F/2G/2A/2|\"Em\"B/2G/2A/2F/2 \"D7\"G/2F/2E/2D/2|\\n\"G\"GG/2F/2 G/2A/2B/2c/2|\"G\"d/2B/2e/2B/2 d/2B/2A/2G/2|\\\\\\n\"Em\"B/2E/2E/2D/2 E/2F/2G/2A/2|\"D7\"B/2G/2A/2F/2 \"G\"G:|\\nP:B\\nB|\"Em\"B/2e/2e/2d/2 e3/2f/2|\"Em\"g/2e/2a/2f/2 g/2f/2e/2d/2|\\\\\\n\"D\"A/2d/2d/2^c/2 d3/2e/2|\"D\"f/2d/2a/2f/2 g/2f/2e/2d/2|\\n\"Em\"\"C\"B/2e/2e/2d/2 e3/2f/2|\"Em\"\"C\"g/2e/2a/2f/2 g/2f/2e/2d/2|\\\\\\n\"Em\"\"G\"B/2A/2G/2F/2 E/2F/2G/2A/2|\"D7\"B/2G/2A/2F/2 \"G\" G :|\\n\\n\\nX: 70\\nT:Teetotaller\\'s Reel Descant\\n% Nottingham Music Database\\nS:Kerrs/Eric Foxley\\nM:4/4\\nL:1/4\\nK:G\\nP:A\\n(3G/2A/2^A/2|\"G\"BB/2A/2 B/2c/2d/2e/2|\"G\"g/2B/2d/2B/2 g/2B/2d/2B/2|\\\\\\n\"Em\"g/2e/2B/2g/2 e/2B/2g/2B/2|\"Em\"gg \"D7\"f/2e/2d/2c/2|\\n\"G\"BB/2A/2 B/2c/2d/2e/2|\"G\"g/2B/2d/2B/2 g/2B/2d/2B/2|\\\\\\n\"Em\"g/2e/2B/2g/2 e/2B/2g/2B/2|\"D7\"f/2e/2d/2c/2 \"G\"B:|\\nP:B\\nB|\"Em\"e/2g/2g/2f/2 g3/2a/2|\"Em\"b/2g/2c\\'/2a/2 b/2a/2g/2f/2|\\\\\\n\"D\"d/2f/2f/2e/2 ff/2g/2|\"D\"a/2f/2c\\'/2a/2 b/2a/2g/2f/2|\\n\"Em\"\"C\"e/2g/2g/2f/2 g3/2a/2|\"Em\"\"C\"b/2g/2c\\'/2a/2 b/2a/2g/2f/2|\\\\\\n\"Em\"\"G\"e/2d/2c/2B/2 A/2B/2c/2d/2|\"D7\"ed/2c/2 \"G\"B:|\\n\\n\\nX: 71\\nT:Teetotaller\\'s Reel\\n% Nottingham Music Database\\nS:Kerrs/Eric Foxley\\nM:4/4\\nL:1/4\\nK:G\\nP:A\\n(3D/2E/2F/2|\"G\"GG/2F/2 G/2A/2B/2c/2|\"G\"d/2B/2e/2B/2 d/2B/2A/2G/2|\\\\\\n\"Em\"B/2E/2E/2D/2 E/2F/2G/2A/2|\"Em\"B/2G/2A/2F/2 \"D7\"G/2F/2E/2D/2|\\n\"G\"GG/2F/2 G/2A/2B/2c/2|\"G\"d/2B/2e/2B/2 d/2B/2A/2G/2|\\\\\\n\"Em\"B/2E/2E/2D/2 E/2F/2G/2A/2|\"D7\"B/2G/2A/2F/2 \"G\"G:|\\nP:B\\nB|\"Em\"B/2e/2e/2d/2 e3/2f/2|\"Em\"g/2e/2a/2f/2 g/2f/2e/2d/2|\\\\\\n\"D\"A/2d/2d/2^c/2 d3/2e/2|\"D\"f/2d/2a/2f/2 g/2f/2e/2d/2|\\n\"Em\"\"C\"B/2e/2e/2d/2 e3/2f/2|\"Em\"\"C\"g/2e/2a/2f/2 g/2f/2e/2d/2|\\\\\\n\"Em\"\"G\"B/2A/2G/2F/2 E/2F/2G/2A/2|\"D7\"B/2G/2A/2F/2 \"G\"G:|\\n(3G/2A/2^A/2|BB/2A/2 B/2c/2d/2e/2|g/2B/2d/2B/2 g/2B/2d/2B/2|\\\\\\ng/2e/2B/2g/2 e/2B/2g/2B/2|gg f/2e/2d/2c/2|\\nBB/2A/2 B/2c/2d/2e/2|g/2B/2d/2B/2 g/2B/2d/2B/2|g/2e/2B/2g/2 e/2B/2g/2B/2|\\\\\\nf/2e/2d/2c/2 B:|\\nB|e/2g/2g/2f/2 gg/2a/2|b/2g/2c\\'/2a/2 b/2a/2g/2f/2|d/2f/2f/2e/2 ff/2g/2|\\\\\\na/2f/2c\\'/2a/2 b/2a/2g/2f/2|\\ne/2g/2g/2f/2 g3/2a/2|b/2g/2c\\'/2a/2 b/2a/2g/2f/2|e/2d/2c/2B/2 A/2B/2c/2d/2|\\\\\\ned/2c/2 B:|\\n(3B/2c/2^c/2|dd/2c/2 d/2e/2g/2a/2|b/2d/2g/2d/2 b/2d/2g/2d/2|\\\\\\nb/2g/2e/2b/2 g/2e/2b/2e/2|bb a/2g/2f/2e/2|\\ndd/2c/2 d/2e/2g/2a/2|b/2d/2g/2d/2 b/2d/2g/2d/2|b/2g/2e/2b/2 g/2e/2b/2e/2|\\\\\\na/2g/2f/2e/2 d:|\\nd|G/2B/2B/2A/2 B3/2c/2|e/2B/2f/2c/2 d/2c/2B/2A/2|F/2A/2A/2G/2 AA/2B/2|\\\\\\nd/2A/2e/2A/2 c/2c/2B/2A/2|\\nG/2B/2B/2A/2 B3/2c/2|e/2B/2f/2c/2 d/2c/2B/2A/2|g/2f/2e/2d/2 c/2B/2A/2G/2|\\\\\\nAB/2c/2 d:|\\n\\nX: 72\\nT:That\\'s All\\n% Nottingham Music Database\\nS:Chris Collings, via PR\\nM:4/4\\nL:1/4\\nK:A\\nc/2B/2|\"A\"A/2B/2c/2d/2 ea|\"D\"fe \"A\"e2|\"D\"af \"A\"ec|\\\\\\n\"Bm\"d/2c/2B/2A/2 \"E7\"G/2E/2F/2G/2|\\n\"A\"A/2B/2c/2d/2 ea|\"D\"fe \"A\"ea/2f/2|\"A\"e/2c/2d/2c/2 \"E7\"BE|\"A\"A2 A:|\\nf/2g/2|\"D\"af fa/2f/2|\"A\"f/2e/2A c2|\"A\"A/2G/2A/2B/2 ca/2f/2|\\\\\\n\"D\"e/2c/2A/2c/2 \"E\"Bf/2g/2|\\n\"D\"af fa/2f/2|\"A\"f/2e/2A c2|\"B7\"B/2c/2^d/2e/2 f/2a/2g/2f/2|\"E\"e2 ef/2g/2|\\n\"D\"af fa/2f/2|\"A\"f/2e/2A c2|\"A\"A/2G/2A/2B/2 cB/2A/2|\"D\"FE \"E7\"EC/2B,/2|\\n\"A\"A,/2A,/2A,/2B,/2 C/2C/2C/2E/2|\"A\"A/2A/2A/2B/2 c/2e/2f/2g/2|\\\\\\n\"D\"ac \"E7\"d/2c/2B|\"A\"A2 A||\\n\\n\\nX: 73\\nT:The Rant\\n% Nottingham Music Database\\nS:Les, via EF\\nM:4/4\\nL:1/4\\nK:D\\nP:A\\na/2g/2|\"D\"f3/2d/2 AF|\"G\"G/2B/2d/2B/2 \"D\"AA|\"G\"B/2c/2d/2B/2 \"D\"Af|\\\\\\n\"D\"f/2d/2f \"A7\"ea/2g/2|\\n\"D\"f3/2d/2 AF|\"G\"G/2B/2d/2B/2 \"D\"AA|\"G\"B/2c/2d/2B/2 \"A7\"c/2d/2e/2c/2|\"D\"df d:|\\nP:B\\nf/2g/2|\"D\"a/2f/2d/2f/2 aa|\"G\"b/2g/2d/2g/2 bb|\"D\"a/2f/2d/2f/2 aa|\\\\\\n\"Em\"g/2a/2g/2f/2 \"A7\"e3/2A/2|\\n\"D\"d/2c/2d/2e/2 f/2d/2e/2f/2|\"G\"g/2f/2g/2a/2 bb|\\\\\\n\"D\"a/2g/2f/2a/2 \"A7\"g/2f/2e/2g/2|\"D\"fd d:|\\n\\n\\nX: 74\\nT:Thirty Years Ago\\n% Nottingham Music Database\\nS:Mike Bush, via EF\\nM:4/4\\nL:1/4\\nK:G\\nP:A\\nB/4c/4|\"G\"d/2B/2e/2B/2 d/2B/2A/2B/2|\"G\"G/2F/2G/2A/2 \"D7\"G/2D/2G/2A/2|\\\\\\n\"G\"B/2G/2B/2d/2 \"Am\"c/2B/2A/2G/2|\"D7\"F/2G/2A/2F/2 DB/2c/2|\\n\"G\"d/2B/2e/2B/2 d/2B/2A/2B/2|\"G\"G/2F/2G/2A/2 G/2A/2B/2c/2|\\\\\\n\"Em\"d/2e/2f/2e/2 \"D7\"d/2c/2A/2F/2|[1\"G\"GA/2G/2 F/2G:|[2\"G\" GA/G/G|\\n|:(3D/2E/2F/2|\"G\"G/2F/2G/2A/2 BA/2G/2|\"D7\"F/2G/2A/2F/2 D/2E/2F/2D/2|\\\\\\n\"G\"G/2F/2G/2A/2 \"Em\"BA/2G/2|\"Am\"A/2d/2d/2e/2 \"D7\"d/2c/2B/2A/2|\\n\"G\"G/2F/2G/2A/2 BA/2G/2|\"D\"F/2G/2A/2B/2 cB/2c/2|\\\\\\n\"Em\"d/2e/2f/2e/2 \"D7\"d/2c/2A/2F/2|\"G\"GA/2G/2 G:|\\n\\n\\nX: 75\\nT:Miss Thompson\\'s Hornpipe\\n% Nottingham Music Database\\nS:via PR\\nM:4/4\\nL:1/4\\nK:D\\n(3A/2B/2c/2|\"D\"dd/2f/2 \"A7\"e/2d/2c/2B/2|\"D\"AA/2B/2 \"A7\"A/2G/2F/2E/2|\\\\\\n\"D\"D/2F/2A/2F/2 \"G\"D/2G/2B/2G/2|\"D\"D/2F/2A/2F/2 \"A7\"G/2F/2E/2D/2|\\n\"D\"dd/2f/2 \"A7\"e/2d/2c/2B/2|\"D\"AA/2B/2 \"A7\"A/2G/2F/2E/2|\\\\\\n\"D\"D/2F/2A/2d/2 \"A7\"f/2e/2d/2c/2|\"D\"d\"A7\"d/2c/2 \"D\"d::\\nc/2d/2|\"A\"e/2c/2e/2c/2 A/2c/2e/2c/2|\"D\"f/2d/2f/2d/2 A/2d/2f/2d/2|\\\\\\n\"G\"g/2e/2g/2e/2 \"D\"f/2d/2f/2d/2|\"E7\"e/2d/2c/2B/2 \"A\"AD/2G/2|\\n\"G\"B/2G/2B/2G/2 D/2G/2B/2d/2|\"D\"A/2F/2A/2F/2 D/2F/2A/2d/2|\\\\\\n\"D\"F/2A/2d/2e/2 \"A7\"f/2e/2d/2c/2|\"D\"d\"A7\"d/2c/2 \"D\"d:|\\n\\n\\nX: 76\\nT:Thornbury Rise\\n% Nottingham Music Database\\nS:Philip Rowe\\nM:2/4\\nL:1/4\\nK:G\\nD/2|\"G\"G/4A/2B/4 A/2G/2|G/4A/2B/4 A/2G/2|\"G\"G/4A/2B/4 A/2G/2|\"C\"c/2c/2 c|\\nc/4d/4e/4d/4 c/2c/2|\"G\"B/4c/4d/4c/4 B/2B/2|\"D7\"A/4B/4c/4B/4 A/2F/2|\\\\\\n\"G\"G/2B/2 G/2::\\nF/4G/4|\"D\"A/4F/4D/4F/4 A/4c/4B/4A/4|\"G\"G/4A/4B/4c/4 d/2g/2|\\\\\\n\"D\"A/4F/4D/4F/4 A/4c/4B/4A/4|\"G\"G/4F/4G/4A/4 G/2c/4d/4|\\n\"C\"e/2e/2 e/4d/4c/4e/4|\"G\"d/2d/2 d/4c/4B/4d/4|\"D7\"A/4G/4A/4B/4 d/4c/4B/4A/4|\\\\\\n[1\"G\"G/4F/4G/4A/4 G/2:|[2 \"G\"G/4F/4G/4A/4 G\\n|:\"G\"g/4d/4B/4d/4 g/4d/4B/4d/4|\"C\"g/4e/4c/4e/4 g/4e/4c/4e/4|\\\\\\n\"G\"g/4d/4B/4d/4 g/4d/4B/4d/4|\"Am\"c/4B/4A/4G/4 \"D7\"A|\\n\"G\"g/4d/4B/4d/4 g/4d/4B/4d/4|\"C\"g/4e/4c/4e/4 g/4e/4c/4e/4|\\\\\\n\"G\"g/4d/4B/4g/4 \"D7\"f/4d/4e/4f/4| [1\"D7\"g/4f/4g/4a/4 \"G\"g:|[2\"G\"g2||\\n\\n\\nX: 77\\nT:March of St Timothy\\n% Nottingham Music Database\\nS:Judi Morningstar, via PR\\nM:2/4\\nL:1/4\\nK:G\\n\"G\"B3/4c/4 d/2B/2|\"D\"A3/4B/4 c/2A/2|\"Em\"G3/4A/4 B/2G/2|\"Bm\"G/2F/2 E/2D/2|\\\\\\n\"C\"E3/4F/4 G/2E/2|\"G\"D/2G/2 B/2d/2| [1\"Am\"c3/4B/4 A/2G/2|\"D7\"F/2A/2 D/2c/2:|\\n [2\"Am\"c/4B/4A/2 \"D7\"F/2A/2|\"G\"G3/2d/4d/4||\"D7\"c/2d/2 A/2c/2|F/2A/2 D/2d/4d/4|\\\\\\n\"G\"B/2d/2 G/2B/2|D/2G/2 B,/2d/4d/4|\\n\"D7\"c/2d/2 A/2c/2|F/2A/2 D/2d/4d/4|\"G\"B/2D/2 E/2F/2|G/2A/2 B/2d/4d/4|\\\\\\n\"D7\"c/2d/2 A/2c/2|F/2A/2 D/2d/4d/4|\\n\"G\"B/2d/2 G/2B/2|\"G\"D/2G/2 B,/2G/2|\"Em\"E3/4F/4 \"A7\"G/2E/2|\"G\"D/2G/2 B/2d/2|\\\\\\n\"Am\"c/4B/4A/2 \"D7\"F/2A/2|\"G\"G2||\\n\\n\\nX: 78\\nT:Timour The Tartar\\n% Nottingham Music Database\\nS:Kevin Briggs, via EF\\nM:4/4\\nL:1/4\\nK:A\\nP:A\\ne|:\"A\"A(3c/2B/2A/2 e/2A/2(3c/2B/2A/2|\"A\"e/2A/2a/2A/2 \"D\"g/2A/2f/2A/2|\\\\\\n\"A\"A(3c/2B/2A/2 e/2A/2(3c/2B/2A/2|\"E7\"B/2E/2c/2E/2 d/2E/2B/2E/2|\\n\"A\"A(3c/2B/2A/2 e/2A/2(3c/2B/2A/2|\"A\"e/2A/2a/2A/2 \"D\"g/2A/2f/2A/2|\\\\\\n\"A\"e/2f/2e/2c/2 e/2a/2e/2c/2|\"E7\"B/2A/2B/2c/2 \"A\"A2::\\nP:B\\n\"E7\"E(3G/2F/2E/2 B/2E/2(3G/2F/2E/2|\"E7\"B/2E/2c/2E/2 d/2E/2B/2E/2|\\\\\\n\"A\"A(3c/2B/2A/2 e/2A/2(3c/2B/2A/2|\"A\"e/2A/2a/2A/2 \"D\"g/2A/2f/2A/2|\\n\"A\"e/2f/2e/2c/2 \"D\"a/2g/2a/2f/2|\"A\"e/2f/2e/2c/2 \"D\"a/2g/2a/2f/2|\\\\\\n\"A\"e/2c/2a/2g/2 \"D\"f/2e/2d/2c/2|\"Bm\"B/2A/2G/2F/2 \"E7\"E2:|\\n\\n\\nX: 79\\nT:Tin Gee Gee\\n% Nottingham Music Database\\nS:via PR\\nM:2/4\\nL:1/4\\nK:D\\nf/4g/4|\"D\"a/2d/2 d/4c/4d/4f/4|\"Em\"e/2B/2 B3/4B/4|\"A\"c/2c/4c/4 B/2A/2|\\n\"D\"a \"A7\"a/4g/4f/4g/4|\"D\"a/2d/2 d/4c/4d/4f/4|\"Em\"e/2B/2 B3/4B/4|\\\\\\n\"A7\"c/2c/4c/4 B/2A/2|\"D\"d3/2::\\nc/4d/4|\"A\"e/2e/4e/4 e/2d/4e/4|\"D\"f/2f/4f/4 f/2e/4f/4|\"Em\"g/2f/2 \"E7\"e/2d/2|\\n\"A\"a \"A7\"a/4g/4f/4g/4|\"D\"a/2d/2 d/4c/4d/4f/4|\"Em\"e/2B/2 B3/4B/4|\\\\\\n\"D\"A/2a/2 \"A7\"g/4f/4e/2|\"D\"d3/2:|\\n\\n\\nX: 80\\nT:Tinkerbell\\n% Nottingham Music Database\\nS:Chris Dewhurst (1979), via PR\\nM:4/4\\nL:1/4\\nK:D\\na/2g/2|\"D\"fa/2f/2 df/2d/2|Ad/2A/2 FG|\"D\"A2 g3/2f/2|\"A\"fe e2|\"A\"eg/2e/2 ce/2c/2\\\\\\n|\\n\"A\"Ac/2A/2 EA/2B/2|\"A\"ce a3/2g/2|\"D\"gf \"A\"fa/2g/2|\"D\"fa/2f/2 df/2d/2|\\\\\\nAd/2A/2 FA|\\n\"D7\"d2 e3/2f/2|\"G\"ag B2|\"G\"Bd \"Gm\"a3/2g/2|\"D\"fA \"Bm\"g3/2f/2|\"Em\"eg/2e/2 \"A\"ce|\\\\\\n\"D\"d3F/2G/2||\\n\"D\"AF/2A/2 BF/2B/2|cF/2c/2 dc/2d/2|\"Em\"ee/2f/2 g/2f/2e/2d/2|\"Em\"B3c/2B/2|\\\\\\n\"A\"AG/2A/2 cA/2c/2|\\n\"A\"ec/2e/2 ga/2g/2|\"D\"f/2g/2a/2f/2 \"Em\"dB|\"A\"A3F/2G/2|\"D\"AF/2A/2 dA/2d/2|\\\\\\nfd/2f/2 ab|\\n\"D7\"=c\\'2 b3/2a/2|\"G\"b3a|\"G\"gB \"Gm\"a3/2g/2|\"D\"fA \"Bm\"g3/2f/2|\"Em\"eg/2e/2 \"A\"ce|\\\\\\n\"D\"d3||\\n\\n\\nX: 81\\nT:The Tipsy Parson\\n% Nottingham Music Database\\nS:via PR\\nM:4/4\\nL:1/4\\nK:D\\ne|\"D\"fA fA|f/2g/2f/2e/2 d/2^d/2e/2f/2|\"Em\"gB gB|\\\\\\n\"A7\"g/2a/2g/2f/2 e/2^d/2e/2=f/2|\\n\"D\"fA fA|\"D\"f/2g/2f/2e/2 dc/2d/2|\"A7\"e/2f/2e/2d/2 c/2A/2B/2c/2|\\\\\\n\"D\"d/2f/2e/2c/2 d::\\nF/2G/2|\"D\"AA/2B/2 A/2G/2F/2E/2|D/2F/2A/2d/2 f/2d/2A/2F/2|\\\\\\n\"D\"AA/2B/2 A/2G/2F/2E/2|\"A\"E3/2E/2 EF/2G/2|\\n\"D\"AA/2B/2 A/2G/2F/2E/2|D/2F/2A/2d/2 fe/2f/2|\"Em\"g/2f/2e/2d/2 \"A7\"c/2A/2B/2c/2\\\\\\n|\"D\"d/2f/2e/2c/2 d:|\\n\\n\\nX: 82\\nT:Tom and Jerry\\n% Nottingham Music Database\\nS:Kevin Briggs, via EF\\nM:4/4\\nL:1/4\\nK:A\\nP:A\\ne|\"A\"ec/2B/2 A/2c/2B/2A/2|\"A\"c/2B/2A/2c/2 B/2A/2B/2c/2|\\\\\\n\"A\"e/2f/2e/2f/2 a/2f/2e/2d/2|\"D\"c/2d/2e/2f/2 \"E7\"e/2d/2c/2B/2|\\n\"A\"ec/2B/2 A/2c/2B/2A/2|\"A\"c/2B/2A/2c/2 B/2A/2B/2c/2|\\\\\\n\"A\"e/2f/2e/2f/2 a/2f/2e/2d/2|\"E7\"c/2A/2B/2c/2 \"A\"A::\\nP:B\\nE/2D/2|\"A\"C/2E/2A/2E/2 C/2E/2A/2C/2|\"D\"D/2F/2A/2F/2 D/2F/2A/2F/2|\\\\\\n\"A\"AA/2c/2 B/2c/2A/2B/2|\"A\"c/2A/2B/2c/2 \"D\"A/2F/2E/2D/2|\\n\"A\"C/2E/2A/2E/2 C/2E/2A/2C/2|\"D\"D/2F/2A/2F/2 D/2F/2A/2F/2|\\\\\\n\"A\"AA/2c/2 B/2c/2A/2B/2|\"E7\"c/2A/2B/2c/2 \"A\"A:|\\n\\n\\nX: 83\\nT:Tom Pate\\n% Nottingham Music Database\\nS:Kevin Briggs, via EF\\nP:AABA\\nM:4/4\\nL:1/4\\nK:G\\nP:A\\nB/2A/2|\"G\"GB d3/2d/2|\"C\"cB \"D7\"AB/2A/2|\"G\"G3/2A/2 \"D7\"Bc|\"G7\"d3d|\\\\\\n\"C\"cc \"D7\"c3/2c/2|\"G\"BB \"Em\"GB|\"Am\"cA \"D7\"GF|\"G\"G3:|\\nP:B\\nd|\"G\"dg ge|\"D7\"f3/2e/2 dd|\"G\"dg ge|\"D7\"f3e|\"G\"dg g3/2f/2|\"C\"ed d3/2d/2|\\\\\\n\"Am\"cA Bc|\\\\\\nP:dc\\n\"D7\"d3||\\n\\n\\nX: 84\\nT:Tom And Jerry\\n% Nottingham Music Database\\nS:via PR\\nM:4/4\\nL:1/4\\nK:A\\nc|\"A\"ec/2B/2 A/2c/2B/2A/2|\"A\"c/2B/2A/2c/2 \"E7\"B/2A/2B/2c/2|\\\\\\n\"A\"e/2f/2e/2f/2 a/2f/2e/2d/2|\"E7\"c/2d/2e/2f/2 e/2d/2c/2B/2|\\n\"A\"ec/2B/2 A/2c/2B/2A/2|\"A\"c/2B/2A/2c/2 \"E7\"B/2A/2B/2c/2|\\\\\\n\"A\"e/2f/2e/2f/2 a/2f/2e/2d/2|\"E7\"c/2A/2B \"A\"A::\\nE/2D/2|\"A\"C/2E/2A/2E/2 C/2E/2A/2E/2|\"D\"D/2F/2A/2F/2 D/2F/2A/2F/2|\\\\\\n\"A\"AA/2c/2 \"F#m\"B/2c/2A/2B/2|\"Bm\"c/2A/2B/2c/2 \"E7\"B/2A/2F/2E/2|\\n\"A\"C/2E/2A/2E/2 C/2E/2A/2E/2|\"D\"D/2F/2A/2F/2 D/2F/2A/2F/2|\\\\\\n\"A\"AA/2c/2 \"F#m\"B/2c/2A/2B/2|\"E7\"c/2A/2B \"A\"A:|\\n\\n\\nX: 85\\nT:The Ton or Jessie\\'s Hornpipe\\n% Nottingham Music Database\\nS:via PR\\nM:4/4\\nL:1/4\\nK:G\\nB/2c/2|\"G\"dg gd/2c/2|Bd dB/2A/2|\"C\"GG \"D\"AA|\\n\"G\"B/2A/2B/2c/2 BB/2c/2|dg gd/2c/2|\"G\"Bd dB/2A/2|\"C\"GG \"D\"AA|\"G\"G3::\\nB/2c/2|\"G\"dg \"C\"ec|\"G\"dg \"C\"ec|\"G\"d3/2B/2 \"A7\"AG|\"D\"A/2G/2A/2B/2 AB/2c/2|\\n\"G\"dg \"C\"ec|\"G\"dg \"C\"ec|\"G\"B/2d/2B/2G/2 \"D7\"A/2c/2A/2F/2|\"G\"G3:|\\n\\n\\nX: 86\\nT:Tralee Gaol\\n% Nottingham Music Database\\nS:Ireland, via PR\\nM:2/4\\nL:1/4\\nK:G\\n\"Am\"e/2A/2 A/2B/4d/4|\"Am\"e3/4d/4 \"G\"B/2d/2|\"Am\"e/2A/2 A/2B/4A/4|\\\\\\n\"Em\"G3/4A/4 B/2d/2|\"Am\"e/2A/2 A/2B/4d/4|\"Am\"e3/4d/4 \"G\"B/2d/2|\"Em\"e/2d/2 g/2B/2|\"Am\"A A::\\n\"Am\"e/2a/2 a/2g/4a/4|\"Em\"b3/4a/4 g/2e/2|\"G\"d/2B/2 g/2B/2|\\\\\\n\"G\"d/4c/4B/4A/4 \"Em\"G/2E/2|\"Am\"e/2a/2 a/2g/4a/4|\"Em\"b3/4a/4 g/2e/2|\"Em\"e/2d/2 g/2B/2|\"Am\"A A:|\\n\\n\\nX: 87\\nT:Don Tremaine\\'s Reel\\n% Nottingham Music Database\\nS:New England, via PR\\nM:4/4\\nL:1/4\\nK:D\\n\"D\"A/2B/2A/2G/2 F/2D/2E/2F/2|\"G\"G/2F/2G/2A/2 B/2c/2d/2B/2|\\\\\\n\"A7\"A/2c/2e/2g/2 f/2d/2e/2c/2|\"D\"d/2A/2F/2G/2 AF/2G/2|\\n\"D\"A/2B/2A/2G/2 F/2D/2E/2F/2|\"G\"G/2F/2G/2A/2 B/2c/2d/2B/2|\\\\\\n\"A7\"A/2c/2e/2g/2 f/2d/2e/2c/2|\"D\"dd/2d/2 dz::\\n\"G\"g/2a/2g/2e/2 \"D\"f/2g/2f/2d/2|\"A7\"e/2f/2e/2d/2 c/2A/2e/2f/2|\\\\\\n\"G\"g/2f/2e/2g/2 \"D\"f/2e/2d/2f/2|\"A7\"ea/2^g/2 ae/2f/2|\\n\"G\"g/2a/2g/2e/2 \"D\"f/2g/2f/2d/2|\"A7\"e/2f/2e/2d/2 c/2B/2A/2F/2|\\\\\\n\"G\"G/2F/2E/2G/2 \"D\"F/2E/2D/2F/2|\"A7\"E/2D/2E/2F/2 \"D\"D2:|\\n\\n\\nX: 88\\nT:Trent\\n% Nottingham Music Database\\nS:David Bradley (Feb 89), via PR\\nM:4/4\\nL:1/4\\nK:D\\nD/2E/2|\"D\"FD \"D#/dim\"FA|\"Em\"G\"A7\"E2D/2E/2|\"D\"FD \"D#/dim\"FA|\\\\\\n\"Em\"G3\"A7\"B/2c/2|\"D\"dd dc|\\n\"G\"BB \"D\"A2|\"E7\"B/2c/2d2B|\"A\"c3\"A7\"D/2E/2|\"D\"FD \"D#/dim\"FA|\\\\\\n\"Em\"G\"A7\"E2D/2E/2|\\n\"D\"FD \"D#/dim\"FA|\"Em\"G3\"A7\"B/2c/2|\"G\"d=f ed|\"D\"fd A2|\"G\"B/2c/2\"A7\"d2c\\\\\\n|\"D\"d3||\\nd/2c/2|\"G\"BB3|\"D\"AA3|\"Em\"A\"A7\"G2A|\"D\"F2 -F3/2F/2|\"E7\"EE B3/2B/2|\\\\\\n\"A\"EE c3/2c/2|\"E7\"de cB|\"A7\"A3D/2E/2|\\n\"D\"FD \"D#/dim\"FA|\"Em\"G\"A7\"E2D/2E/2|\"D\"FD \"D#/dim\"FA|\"Em\"G3\"A7\"B/2c/2|\\\\\\n\"G\"d=f ed|\"D\"fd A2|\"G\"B/2c/2d/2e/2 \"A7\"fe|\"D\"d3||\\n\\n\\nX: 89\\nT:Trial Run\\n% Nottingham Music Database\\nS:Bryon Bonnett, via PR\\nM:4/4\\nL:1/4\\nK:G\\n\"E7\"cB cB-|B^G E2|\"E7\"cB cB-|B4|\"A\"BA BA-|AE ^C2|\"A7\"A,4-|\\nA,4|\"D\"DE =F^F-|^FE D2|\"D\"B2 _B2|\"D7\"A4|\"G\"GA B2|e2 B2|\"D\"d4-|\"D7\"d2 ^c2|\\n\"E7\"cB cB-|B^G E2|\"E7\"cB cB-|B4|\"A\"BA BA-|AE ^C2|\"A7\"A,4-|\\nA,4|\"D\"DE =F^F-|^FE D2|\"D\"B2 _B2|\"D7\"A4|\"G\"GG2G|\"C7\"_B2 A2|\"G\"G4-|G4||\\n\\n\\nX: 90\\nT:Trick Or Treat\\n% Nottingham Music Database\\nS:Chris Dewhurst 1984, via PR\\nM:4/4\\nL:1/4\\nK:G\\nd/2c/2|\"G\"B/2d/2G/2B/2 \"D\"A/2c/2F/2A/2|\"G\"G/2gf/2 gd/2g/2|\\\\\\n\"C\"e/2d/2c/2B/2 \"Am\"A/2G/2F/2E/2|\"D\"Dd d/2e/2d/2c/2|\\n\"G\"B/2d/2G/2B/2 \"D\"\"a\"A/2c/2F/2A/2|\"G\"\"b\"G/2g/2f/2g/2 \"Em\"d/2G/2B/2d/2|\\\\\\n\"Am\"c/2B/2A/2G/2 \"D\"F/2D/2E/2F/2|\"G\"GB G::\\nd/2c/2|\"G\"B/2g/2f/2g/2 d/2g/2B/2g/2|\"C\"c/2g/2f/2g/2 e/2g/2c/2g/2|\\\\\\n\"G\"B/2g/2f/2g/2 d/2g/2d/2B/2|\"D\"cA Ad/2c/2|\\n\"G\"B/2g/2f/2g/2 d/2g/2B/2g/2|\"C\"c/2g/2f/2g/2 e/2g/2c/2g/2|\\\\\\n\"G\"\"b\"B/2g/2d/2B/2 \"D\"c/2A/2F/2A/2|\"G\"GB G:|\\n\\n\\nX: 91\\nT:Turkey in the Straw\\n% Nottingham Music Database\\nS:Kevin Briggs, via EF\\nM:4/4\\nL:1/4\\nK:G\\nP:A\\nB/2A/2|\"G\"G/2F/2G/2A/2 GB,/2C/2|\"G\"D/2E/2D/2B,/2 DG/2A/2|\\\\\\n\"G\"BB \"Em\"B/2A/2G/2A/2|\"Am\"BA \"D7\"AB/2A/2|\\n\"G\"G/2F/2G/2A/2 GB,/2C/2|\"G\"D/2E/2D/2B,/2 DG/2A/2|\"G\"B/2de/2 \"Em\"d/2B/2G/2A/2|\\\\\\n\"D7\"BA \"G\"G:|\\nP:B\\nA|\"G\"B/2dB/2 dd|\"G7\"B/2dB/2 d2|\"C\"c/2ec/2 ee|\"C\"c/2ec/2 \"D7\"ef|\\n\"G\"gg dd|\"G\"B/2dB/2 \"D7\"AG/2A/2|\"G\"B/2de/2 \"Em\"d/2B/2G/2A/2|\"D7\"BA \"G\"G:|\\n\\n\\nX: 92\\nT:Mr Turveydrop\\n% Nottingham Music Database\\nS:Bryon Bonnett, via PR\\nM:4/4\\nL:1/4\\nK:Dm\\nA|\"Dm\"DD D/2E/2F/2G/2|AA A2|\"Gm\"BB dB|\"A7\"A2 -A2|\"Dm\"DD D/2E/2F/2G/2|\\nAA A2|\"Gm\"GA/2G/2 FG|\"A7\"A2 A2|\"Dm\"DD D/2E/2F/2G/2|AA A2|\"Gm\"BB dB|\\n\"Dm\"A2 -A2|\"Gm\"GG G/2B/2A/2G/2|\"Dm\"FF F/2A/2G/2F/2|\"A7\"EE E/2G/2F/2E/2|\\\\\\n\"Dm\"D2 -D2\\n|:\"Dm\"d2 A2|\"Gm\"Bd \"Dm\"A2|\"Gm\"GG G/2A/4G/4F/2G/2|\"A7\"A2 -A2|\"Dm\"d2 A2|\\\\\\n\"Gm\"Bd \"Dm\"A2|\"A7\"AA/2B/2 A/2G/2F/2E/2|\"Dm\"D2 -D2:|\\n\\n'"
      ]
     },
     "execution_count": 2,
     "metadata": {},
     "output_type": "execute_result"
    }
   ],
   "source": [
    "tunes"
   ]
  },
  {
   "cell_type": "markdown",
   "id": "665f6d6a-ceca-402d-9863-aa63c90547fc",
   "metadata": {},
   "source": [
    "#### Preprocessing dataset"
   ]
  },
  {
   "cell_type": "markdown",
   "id": "9aeeb9c7-8b7e-4bbd-ab98-f952876fc789",
   "metadata": {},
   "source": [
    "We will now remove unnecessary lines and give uniform line breaks."
   ]
  },
  {
   "cell_type": "code",
   "execution_count": 3,
   "id": "ce4728bf-26df-42f0-9860-d707ddb0c86e",
   "metadata": {},
   "outputs": [],
   "source": [
    "tune_list =[]\n",
    "tune_list = tunes.split('\\n\\n\\n')"
   ]
  },
  {
   "cell_type": "code",
   "execution_count": 4,
   "id": "fa0be475-318f-4c19-9385-1cf7adb327e8",
   "metadata": {},
   "outputs": [
    {
     "name": "stdout",
     "output_type": "stream",
     "text": [
      "90\n"
     ]
    }
   ],
   "source": [
    "print(len(tune_list))"
   ]
  },
  {
   "cell_type": "code",
   "execution_count": 5,
   "id": "332364af-7268-49e1-bfe1-f71ec7759ae9",
   "metadata": {},
   "outputs": [],
   "source": [
    "from music21 import converter, midi, stream"
   ]
  },
  {
   "cell_type": "code",
   "execution_count": 6,
   "id": "6ee06d75-9035-4728-b0c7-af225c5621e0",
   "metadata": {},
   "outputs": [
    {
     "data": {
      "text/plain": [
       "'\\nX: 1\\nT:Raggety Anne\\n% Nottingham Music Database\\nS:Kevin Briggs, via EF\\nM:4/4\\nL:1/4\\nK:D\\nA/2F/2|\"D\"D/2F/2A/2F/2 BA/2F/2|\"D\"D/2F/2A/2F/2 BA/2F/2|\"D\"D/2F/2A/2F/2 BA/2F/2\\\\\\n|\"A7\"A/2cA/2 c3/2B/2|\\n\"A7\"A/2B/2c/2B/2 A/2B/2c/2B/2|\"A7\"A/2B/2c/2B/2 A/2B/2c/2B/2|\\\\\\n\"A7\"A/2B/2c/2d/2 e/2g/2f/2e/2|\\n\"D\"d/2c/2d/2e/2 \"A7\"d/2B/2A/2F/2|\"D\"D/2F/2A/2F/2 BA/2F/2|\\\\\\n\"D\"D/2F/2A/2F/2 BA/2F/2|\"D\"D/2F/2A/2F/2 BA/2F/2|\\n\"A7\"A/2cA/2 c3/2B/2|\"A7\"A/2B/2c/2B/2 A/2B/2c/2B/2|\\\\\\n\"A7\"A/2B/2c/2B/2 A/2B/2c/2B/2|\"A7\"A/2B/2c/2d/2 e/2g/2f/2e/2|\\n\"D\"d3f/2g/2|\"D\"a/2f/2A/2a/2 f/2A/2a/2A/2|\"D\"f/2d/2A/2f/2 d/2A/2f/2A/2|\\\\\\n\"D7\"d/2=c/2A/2d/2 \"e\"^c\"f#\"=c|\\n\"G\"B3e/2f/2|\"A7\"g/2f/2e/2f/2 g/2f/2e/2f/2|\"A7\"g/2f/2e/2d/2 ce/2f/2|\\\\\\n\"A7\"g/2f/2e/2d/2 cB|\\n\"A7\"A3f/2g/2|\"D\"a/2f/2A/2a/2 f/2A/2a/2A/2|\"D\"f/2d/2A/2f/2 d/2A/2f/2A/2|\\\\\\n\"D7\"d/2=c/2A/2d/2 \"e\"^c\"f#\"=c|\\n\"G\"B3e/2f/2|\"A7\"g/2f/2e/2f/2 g/2f/2e/2f/2|\"A7\"g/2f/2e/2f/2 g2|\\\\\\n\"A7\"A/2^G/2A/2^A/2 Bc|\"D\"d3||'"
      ]
     },
     "execution_count": 6,
     "metadata": {},
     "output_type": "execute_result"
    }
   ],
   "source": [
    "tune_list[0]"
   ]
  },
  {
   "cell_type": "code",
   "execution_count": 7,
   "id": "81851cf6-fea3-4bc7-a6c6-d68130df3c6c",
   "metadata": {},
   "outputs": [
    {
     "data": {
      "text/html": [
       "\n",
       "        <div id=\"midiPlayerDiv2856\"></div>\n",
       "        <link rel=\"stylesheet\" href=\"https://cuthbertLab.github.io/music21j/css/m21.css\">\n",
       "        \n",
       "        <script\n",
       "        src=\"https://cdnjs.cloudflare.com/ajax/libs/require.js/2.3.6/require.min.js\"\n",
       "        ></script>\n",
       "    \n",
       "        <script>\n",
       "        function midiPlayerDiv2856_play() {\n",
       "            const rq = require.config({\n",
       "                paths: {\n",
       "                    'music21': 'https://cuthbertLab.github.io/music21j/releases/music21.debug',\n",
       "                }\n",
       "            });\n",
       "            rq(['music21'], function(music21) {\n",
       "                mp = new music21.miditools.MidiPlayer();\n",
       "                mp.addPlayer(\"#midiPlayerDiv2856\");\n",
       "                mp.base64Load(\"data:audio/midi;base64,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\");\n",
       "            });\n",
       "        }\n",
       "        if (typeof require === 'undefined') {\n",
       "            setTimeout(midiPlayerDiv2856_play, 2000);\n",
       "        } else {\n",
       "            midiPlayerDiv2856_play();\n",
       "        }\n",
       "        </script>"
      ],
      "text/plain": [
       "<IPython.core.display.HTML object>"
      ]
     },
     "metadata": {},
     "output_type": "display_data"
    }
   ],
   "source": [
    "score = converter.parse(tune_list[0])\n",
    "score.show('midi')"
   ]
  },
  {
   "cell_type": "code",
   "execution_count": 8,
   "id": "f622e923-3be9-4538-9604-6877953d3bf6",
   "metadata": {},
   "outputs": [],
   "source": [
    "def preprocess_tunes(abc):\n",
    "\n",
    "    abc = abc.strip()\n",
    "    abc = abc.split('\\n')\n",
    "    for i,line in enumerate(abc):\n",
    "        if (line.startswith('%') or line.startswith('X:') or line.startswith('T:') or line.startswith('S:')):\n",
    "            abc.pop(i)\n",
    "        else :\n",
    "           line = line.replace('\\\\','')\n",
    "    abc.pop(0)\n",
    "    abc.pop(0)\n",
    "    abc = \"\\n\".join(abc)\n",
    "    return abc\n",
    "    "
   ]
  },
  {
   "cell_type": "code",
   "execution_count": 9,
   "id": "993b35e1-9458-4ce7-a635-bd8e0b005764",
   "metadata": {},
   "outputs": [],
   "source": [
    "for i,tune in enumerate(tune_list):\n",
    "    tune_list[i] = preprocess_tunes(tune_list[i])"
   ]
  },
  {
   "cell_type": "code",
   "execution_count": 28,
   "id": "7a3e6e40-82e8-4db9-b067-f5247284836a",
   "metadata": {},
   "outputs": [
    {
     "name": "stdout",
     "output_type": "stream",
     "text": [
      "M:4/4\n",
      "L:1/4\n",
      "K:D\n",
      "A/2F/2|\"D\"D/2F/2A/2F/2 BA/2F/2|\"D\"D/2F/2A/2F/2 BA/2F/2|\"D\"D/2F/2A/2F/2 BA/2F/2\\\n",
      "|\"A7\"A/2cA/2 c3/2B/2|\n",
      "\"A7\"A/2B/2c/2B/2 A/2B/2c/2B/2|\"A7\"A/2B/2c/2B/2 A/2B/2c/2B/2|\\\n",
      "\"A7\"A/2B/2c/2d/2 e/2g/2f/2e/2|\n",
      "\"D\"d/2c/2d/2e/2 \"A7\"d/2B/2A/2F/2|\"D\"D/2F/2A/2F/2 BA/2F/2|\\\n",
      "\"D\"D/2F/2A/2F/2 BA/2F/2|\"D\"D/2F/2A/2F/2 BA/2F/2|\n",
      "\"A7\"A/2cA/2 c3/2B/2|\"A7\"A/2B/2c/2B/2 A/2B/2c/2B/2|\\\n",
      "\"A7\"A/2B/2c/2B/2 A/2B/2c/2B/2|\"A7\"A/2B/2c/2d/2 e/2g/2f/2e/2|\n",
      "\"D\"d3f/2g/2|\"D\"a/2f/2A/2a/2 f/2A/2a/2A/2|\"D\"f/2d/2A/2f/2 d/2A/2f/2A/2|\\\n",
      "\"D7\"d/2=c/2A/2d/2 \"e\"^c\"f#\"=c|\n",
      "\"G\"B3e/2f/2|\"A7\"g/2f/2e/2f/2 g/2f/2e/2f/2|\"A7\"g/2f/2e/2d/2 ce/2f/2|\\\n",
      "\"A7\"g/2f/2e/2d/2 cB|\n",
      "\"A7\"A3f/2g/2|\"D\"a/2f/2A/2a/2 f/2A/2a/2A/2|\"D\"f/2d/2A/2f/2 d/2A/2f/2A/2|\\\n",
      "\"D7\"d/2=c/2A/2d/2 \"e\"^c\"f#\"=c|\n",
      "\"G\"B3e/2f/2|\"A7\"g/2f/2e/2f/2 g/2f/2e/2f/2|\"A7\"g/2f/2e/2f/2 g2|\\\n",
      "\"A7\"A/2^G/2A/2^A/2 Bc|\"D\"d3||\n"
     ]
    }
   ],
   "source": [
    "print(tune_list[0])"
   ]
  },
  {
   "cell_type": "code",
   "execution_count": 186,
   "id": "e6bc6fc8-39e8-4209-b89a-dc2a0a824337",
   "metadata": {},
   "outputs": [
    {
     "data": {
      "text/html": [
       "\n",
       "        <div id=\"midiPlayerDiv32747\"></div>\n",
       "        <link rel=\"stylesheet\" href=\"https://cuthbertLab.github.io/music21j/css/m21.css\">\n",
       "        \n",
       "        <script\n",
       "        src=\"https://cdnjs.cloudflare.com/ajax/libs/require.js/2.3.6/require.min.js\"\n",
       "        ></script>\n",
       "    \n",
       "        <script>\n",
       "        function midiPlayerDiv32747_play() {\n",
       "            const rq = require.config({\n",
       "                paths: {\n",
       "                    'music21': 'https://cuthbertLab.github.io/music21j/releases/music21.debug',\n",
       "                }\n",
       "            });\n",
       "            rq(['music21'], function(music21) {\n",
       "                mp = new music21.miditools.MidiPlayer();\n",
       "                mp.addPlayer(\"#midiPlayerDiv32747\");\n",
       "                mp.base64Load(\"data:audio/midi;base64,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\");\n",
       "            });\n",
       "        }\n",
       "        if (typeof require === 'undefined') {\n",
       "            setTimeout(midiPlayerDiv32747_play, 2000);\n",
       "        } else {\n",
       "            midiPlayerDiv32747_play();\n",
       "        }\n",
       "        </script>"
      ],
      "text/plain": [
       "<IPython.core.display.HTML object>"
      ]
     },
     "metadata": {},
     "output_type": "display_data"
    }
   ],
   "source": [
    "score = converter.parse(tune_list[0])\n",
    "score.show('midi')"
   ]
  },
  {
   "cell_type": "markdown",
   "id": "6f5d162f-b37b-4bf4-8594-58c62623c49d",
   "metadata": {},
   "source": [
    "You can see it doesn't affect the music generated before preprocessing\n"
   ]
  },
  {
   "cell_type": "markdown",
   "id": "c4022818-aa19-4ff7-a547-98d433d96646",
   "metadata": {},
   "source": [
    "#### Vectorization"
   ]
  },
  {
   "cell_type": "code",
   "execution_count": 13,
   "id": "09a8a914-01e0-413f-b114-25e9de65c3dc",
   "metadata": {},
   "outputs": [],
   "source": [
    "joined_tunes = \"\\n\\n\".join(tune_list)"
   ]
  },
  {
   "cell_type": "code",
   "execution_count": 14,
   "id": "dd2f93fa-4cb5-4e36-8b20-63202ce68dc6",
   "metadata": {},
   "outputs": [],
   "source": [
    "vocab = sorted(set(joined_tunes))"
   ]
  },
  {
   "cell_type": "code",
   "execution_count": 15,
   "id": "d19d048d-ba36-4802-ae26-a498b09e661d",
   "metadata": {},
   "outputs": [
    {
     "name": "stdout",
     "output_type": "stream",
     "text": [
      "60\n"
     ]
    }
   ],
   "source": [
    "vocab_len = len(vocab)\n",
    "print(vocab_len)"
   ]
  },
  {
   "cell_type": "code",
   "execution_count": 16,
   "id": "949d6e33-c1e4-49a3-a5be-f4d264fe586d",
   "metadata": {},
   "outputs": [],
   "source": [
    "word_to_index = {char: i for i, char in enumerate(vocab)}\n",
    "index_to_word = {i: char for char, i in word_to_index.items()}"
   ]
  },
  {
   "cell_type": "code",
   "execution_count": 19,
   "id": "e0b2aafa-9b2a-4f69-9d78-0a5477efbce4",
   "metadata": {
    "scrolled": true
   },
   "outputs": [
    {
     "name": "stdout",
     "output_type": "stream",
     "text": [
      "{\n",
      "  '\\n':   0,\n",
      "  ' ' :   1,\n",
      "  '!' :   2,\n",
      "  '\"' :   3,\n",
      "  '#' :   4,\n",
      "  \"'\" :   5,\n",
      "  '(' :   6,\n",
      "  ')' :   7,\n",
      "  '+' :   8,\n",
      "  ',' :   9,\n",
      "  '-' :  10,\n",
      "  '/' :  11,\n",
      "  '1' :  12,\n",
      "  '2' :  13,\n",
      "  '3' :  14,\n",
      "  '4' :  15,\n",
      "  '7' :  16,\n",
      "  ':' :  17,\n",
      "  '=' :  18,\n",
      "  'A' :  19,\n",
      "  'B' :  20,\n",
      "  'C' :  21,\n",
      "  'D' :  22,\n",
      "  'E' :  23,\n",
      "  'F' :  24,\n",
      "  'G' :  25,\n",
      "  'K' :  26,\n",
      "  'L' :  27,\n",
      "  'M' :  28,\n",
      "  'P' :  29,\n",
      "  'R' :  30,\n",
      "  'S' :  31,\n",
      "  'T' :  32,\n",
      "  '[' :  33,\n",
      "  '\\\\':  34,\n",
      "  ']' :  35,\n",
      "  '^' :  36,\n",
      "  '_' :  37,\n",
      "  'a' :  38,\n",
      "  'b' :  39,\n",
      "  'c' :  40,\n",
      "  'd' :  41,\n",
      "  'e' :  42,\n",
      "  'f' :  43,\n",
      "  'g' :  44,\n",
      "  'h' :  45,\n",
      "  'i' :  46,\n",
      "  'l' :  47,\n",
      "  'm' :  48,\n",
      "  'n' :  49,\n",
      "  'o' :  50,\n",
      "  'q' :  51,\n",
      "  'r' :  52,\n",
      "  's' :  53,\n",
      "  't' :  54,\n",
      "  'u' :  55,\n",
      "  'v' :  56,\n",
      "  'w' :  57,\n",
      "  'z' :  58,\n",
      "  '|' :  59,\n",
      "  ...\n",
      "}\n"
     ]
    }
   ],
   "source": [
    "print('{')\n",
    "for char,_ in zip(word_to_index, range(65)):\n",
    "    print('  {:4s}: {:3d},'.format(repr(char), word_to_index[char]))\n",
    "print('  ...\\n}')"
   ]
  },
  {
   "cell_type": "code",
   "execution_count": 21,
   "id": "1089b2a2-89f7-4278-9f02-2443e80ac3ad",
   "metadata": {},
   "outputs": [],
   "source": [
    "import numpy as np"
   ]
  },
  {
   "cell_type": "code",
   "execution_count": 23,
   "id": "59759a29-1cd2-4166-b6cc-613475f2b2b2",
   "metadata": {},
   "outputs": [],
   "source": [
    "tunes_input = T = np.asarray([word_to_index[c] for c in joined_tunes], dtype=np.int32)"
   ]
  },
  {
   "cell_type": "code",
   "execution_count": 24,
   "id": "c6010769-a826-4b68-88ca-54168f5d43f2",
   "metadata": {},
   "outputs": [
    {
     "data": {
      "text/plain": [
       "array([28, 17, 15, 11, 15,  0, 27, 17, 12, 11, 15,  0, 26, 17, 22,  0, 19,\n",
       "       11, 13, 24])"
      ]
     },
     "execution_count": 24,
     "metadata": {},
     "output_type": "execute_result"
    }
   ],
   "source": [
    "tunes_input[:20]"
   ]
  },
  {
   "cell_type": "code",
   "execution_count": 32,
   "id": "5b2e953d-c820-4fa0-ba26-029920b099e5",
   "metadata": {},
   "outputs": [
    {
     "data": {
      "text/plain": [
       "40266"
      ]
     },
     "execution_count": 32,
     "metadata": {},
     "output_type": "execute_result"
    }
   ],
   "source": [
    "len(tunes_input)"
   ]
  },
  {
   "cell_type": "code",
   "execution_count": 37,
   "id": "66fbf856-5dee-4bd1-8af1-e4c8d637a8c4",
   "metadata": {},
   "outputs": [],
   "source": [
    "tunes_input = tunes_input.reshape(-1,1)"
   ]
  },
  {
   "cell_type": "markdown",
   "id": "16482c1f-f45f-4ca4-b7f7-14891160dda7",
   "metadata": {},
   "source": [
    "#### Generating train set"
   ]
  },
  {
   "cell_type": "code",
   "execution_count": 38,
   "id": "797999fb-e562-4763-9849-2dd682d8a802",
   "metadata": {},
   "outputs": [],
   "source": [
    "sequence_length = 85\n",
    "x_train =[]\n",
    "y_train =[]\n",
    "for i in range(sequence_length,len(tunes_input)-1):\n",
    "    x_train.append(tunes_input[i-sequence_length:i,0])\n",
    "    y_train.append(tunes_input[i,0])\n",
    "\n",
    "x_train = np.array(x_train)\n",
    "y_train = np.array(y_train)\n"
   ]
  },
  {
   "cell_type": "code",
   "execution_count": 39,
   "id": "53e8267e-e2ce-4057-a1b6-7409fed5e3d6",
   "metadata": {},
   "outputs": [
    {
     "data": {
      "text/plain": [
       "(40180, 85)"
      ]
     },
     "execution_count": 39,
     "metadata": {},
     "output_type": "execute_result"
    }
   ],
   "source": [
    "x_train.shape"
   ]
  },
  {
   "cell_type": "code",
   "execution_count": 40,
   "id": "fefb484f-0baa-4726-90d7-f0f6eef85b92",
   "metadata": {},
   "outputs": [],
   "source": [
    "x_train = np.reshape(x_train, (x_train.shape[0],x_train.shape[1],1))"
   ]
  },
  {
   "cell_type": "code",
   "execution_count": 41,
   "id": "8288a94d-5962-4702-8db5-87b8d1e27e89",
   "metadata": {},
   "outputs": [
    {
     "data": {
      "text/plain": [
       "(40180, 85, 1)"
      ]
     },
     "execution_count": 41,
     "metadata": {},
     "output_type": "execute_result"
    }
   ],
   "source": [
    "x_train.shape"
   ]
  },
  {
   "cell_type": "code",
   "execution_count": 42,
   "id": "eb7b9ca4-0d9c-4318-9b22-4cb503ec8a85",
   "metadata": {},
   "outputs": [
    {
     "data": {
      "text/plain": [
       "(40180,)"
      ]
     },
     "execution_count": 42,
     "metadata": {},
     "output_type": "execute_result"
    }
   ],
   "source": [
    "y_train.shape"
   ]
  },
  {
   "cell_type": "markdown",
   "id": "828ce24d-e737-4547-acd2-fb37238160e4",
   "metadata": {},
   "source": [
    "#### Building our Model"
   ]
  },
  {
   "cell_type": "code",
   "execution_count": 60,
   "id": "11af1c2c-5d31-4043-919b-eb8d30a6bd6a",
   "metadata": {},
   "outputs": [],
   "source": [
    "from tensorflow.keras.models import Sequential\n",
    "from tensorflow.keras.layers import LSTM, Dense, Dropout, Embedding\n",
    "from tensorflow.keras.callbacks import ModelCheckpoint\n",
    "\n",
    "\n",
    "model = Sequential([\n",
    "    Embedding(input_dim=60, output_dim=100, input_length=sequence_length),\n",
    "    LSTM(256, return_sequences=True),\n",
    "    Dropout(0.3),\n",
    "    LSTM(256, return_sequences=True),\n",
    "    Dropout(0.3),\n",
    "    LSTM(512, return_sequences=True),\n",
    "    Dropout(0.3),\n",
    "    LSTM(256),\n",
    "    Dropout(0.3),\n",
    "    Dense(60, activation='softmax')\n",
    "])"
   ]
  },
  {
   "cell_type": "code",
   "execution_count": 63,
   "id": "1c1ecce9-eb0f-4b9a-abd7-c9f7a7bfb093",
   "metadata": {},
   "outputs": [],
   "source": [
    "model.build((None, sequence_length))"
   ]
  },
  {
   "cell_type": "code",
   "execution_count": 64,
   "id": "eed4e07d-1043-488a-a6e6-5cae2150488f",
   "metadata": {},
   "outputs": [],
   "source": [
    "model.compile(loss='sparse_categorical_crossentropy', optimizer='adam')"
   ]
  },
  {
   "cell_type": "code",
   "execution_count": 65,
   "id": "4913359e-4612-48cb-88f6-fcbbc904cb24",
   "metadata": {
    "scrolled": true
   },
   "outputs": [
    {
     "data": {
      "text/html": [
       "<pre style=\"white-space:pre;overflow-x:auto;line-height:normal;font-family:Menlo,'DejaVu Sans Mono',consolas,'Courier New',monospace\"><span style=\"font-weight: bold\">Model: \"sequential_6\"</span>\n",
       "</pre>\n"
      ],
      "text/plain": [
       "\u001b[1mModel: \"sequential_6\"\u001b[0m\n"
      ]
     },
     "metadata": {},
     "output_type": "display_data"
    },
    {
     "data": {
      "text/html": [
       "<pre style=\"white-space:pre;overflow-x:auto;line-height:normal;font-family:Menlo,'DejaVu Sans Mono',consolas,'Courier New',monospace\">┏━━━━━━━━━━━━━━━━━━━━━━━━━━━━━━━━━━━━━━┳━━━━━━━━━━━━━━━━━━━━━━━━━━━━━┳━━━━━━━━━━━━━━━━━┓\n",
       "┃<span style=\"font-weight: bold\"> Layer (type)                         </span>┃<span style=\"font-weight: bold\"> Output Shape                </span>┃<span style=\"font-weight: bold\">         Param # </span>┃\n",
       "┡━━━━━━━━━━━━━━━━━━━━━━━━━━━━━━━━━━━━━━╇━━━━━━━━━━━━━━━━━━━━━━━━━━━━━╇━━━━━━━━━━━━━━━━━┩\n",
       "│ embedding_6 (<span style=\"color: #0087ff; text-decoration-color: #0087ff\">Embedding</span>)              │ (<span style=\"color: #00d7ff; text-decoration-color: #00d7ff\">None</span>, <span style=\"color: #00af00; text-decoration-color: #00af00\">85</span>, <span style=\"color: #00af00; text-decoration-color: #00af00\">100</span>)             │           <span style=\"color: #00af00; text-decoration-color: #00af00\">6,000</span> │\n",
       "├──────────────────────────────────────┼─────────────────────────────┼─────────────────┤\n",
       "│ lstm_22 (<span style=\"color: #0087ff; text-decoration-color: #0087ff\">LSTM</span>)                       │ (<span style=\"color: #00d7ff; text-decoration-color: #00d7ff\">None</span>, <span style=\"color: #00af00; text-decoration-color: #00af00\">85</span>, <span style=\"color: #00af00; text-decoration-color: #00af00\">256</span>)             │         <span style=\"color: #00af00; text-decoration-color: #00af00\">365,568</span> │\n",
       "├──────────────────────────────────────┼─────────────────────────────┼─────────────────┤\n",
       "│ dropout_22 (<span style=\"color: #0087ff; text-decoration-color: #0087ff\">Dropout</span>)                 │ (<span style=\"color: #00d7ff; text-decoration-color: #00d7ff\">None</span>, <span style=\"color: #00af00; text-decoration-color: #00af00\">85</span>, <span style=\"color: #00af00; text-decoration-color: #00af00\">256</span>)             │               <span style=\"color: #00af00; text-decoration-color: #00af00\">0</span> │\n",
       "├──────────────────────────────────────┼─────────────────────────────┼─────────────────┤\n",
       "│ lstm_23 (<span style=\"color: #0087ff; text-decoration-color: #0087ff\">LSTM</span>)                       │ (<span style=\"color: #00d7ff; text-decoration-color: #00d7ff\">None</span>, <span style=\"color: #00af00; text-decoration-color: #00af00\">85</span>, <span style=\"color: #00af00; text-decoration-color: #00af00\">256</span>)             │         <span style=\"color: #00af00; text-decoration-color: #00af00\">525,312</span> │\n",
       "├──────────────────────────────────────┼─────────────────────────────┼─────────────────┤\n",
       "│ dropout_23 (<span style=\"color: #0087ff; text-decoration-color: #0087ff\">Dropout</span>)                 │ (<span style=\"color: #00d7ff; text-decoration-color: #00d7ff\">None</span>, <span style=\"color: #00af00; text-decoration-color: #00af00\">85</span>, <span style=\"color: #00af00; text-decoration-color: #00af00\">256</span>)             │               <span style=\"color: #00af00; text-decoration-color: #00af00\">0</span> │\n",
       "├──────────────────────────────────────┼─────────────────────────────┼─────────────────┤\n",
       "│ lstm_24 (<span style=\"color: #0087ff; text-decoration-color: #0087ff\">LSTM</span>)                       │ (<span style=\"color: #00d7ff; text-decoration-color: #00d7ff\">None</span>, <span style=\"color: #00af00; text-decoration-color: #00af00\">85</span>, <span style=\"color: #00af00; text-decoration-color: #00af00\">512</span>)             │       <span style=\"color: #00af00; text-decoration-color: #00af00\">1,574,912</span> │\n",
       "├──────────────────────────────────────┼─────────────────────────────┼─────────────────┤\n",
       "│ dropout_24 (<span style=\"color: #0087ff; text-decoration-color: #0087ff\">Dropout</span>)                 │ (<span style=\"color: #00d7ff; text-decoration-color: #00d7ff\">None</span>, <span style=\"color: #00af00; text-decoration-color: #00af00\">85</span>, <span style=\"color: #00af00; text-decoration-color: #00af00\">512</span>)             │               <span style=\"color: #00af00; text-decoration-color: #00af00\">0</span> │\n",
       "├──────────────────────────────────────┼─────────────────────────────┼─────────────────┤\n",
       "│ lstm_25 (<span style=\"color: #0087ff; text-decoration-color: #0087ff\">LSTM</span>)                       │ (<span style=\"color: #00d7ff; text-decoration-color: #00d7ff\">None</span>, <span style=\"color: #00af00; text-decoration-color: #00af00\">256</span>)                 │         <span style=\"color: #00af00; text-decoration-color: #00af00\">787,456</span> │\n",
       "├──────────────────────────────────────┼─────────────────────────────┼─────────────────┤\n",
       "│ dropout_25 (<span style=\"color: #0087ff; text-decoration-color: #0087ff\">Dropout</span>)                 │ (<span style=\"color: #00d7ff; text-decoration-color: #00d7ff\">None</span>, <span style=\"color: #00af00; text-decoration-color: #00af00\">256</span>)                 │               <span style=\"color: #00af00; text-decoration-color: #00af00\">0</span> │\n",
       "├──────────────────────────────────────┼─────────────────────────────┼─────────────────┤\n",
       "│ dense_6 (<span style=\"color: #0087ff; text-decoration-color: #0087ff\">Dense</span>)                      │ (<span style=\"color: #00d7ff; text-decoration-color: #00d7ff\">None</span>, <span style=\"color: #00af00; text-decoration-color: #00af00\">60</span>)                  │          <span style=\"color: #00af00; text-decoration-color: #00af00\">15,420</span> │\n",
       "└──────────────────────────────────────┴─────────────────────────────┴─────────────────┘\n",
       "</pre>\n"
      ],
      "text/plain": [
       "┏━━━━━━━━━━━━━━━━━━━━━━━━━━━━━━━━━━━━━━┳━━━━━━━━━━━━━━━━━━━━━━━━━━━━━┳━━━━━━━━━━━━━━━━━┓\n",
       "┃\u001b[1m \u001b[0m\u001b[1mLayer (type)                        \u001b[0m\u001b[1m \u001b[0m┃\u001b[1m \u001b[0m\u001b[1mOutput Shape               \u001b[0m\u001b[1m \u001b[0m┃\u001b[1m \u001b[0m\u001b[1m        Param #\u001b[0m\u001b[1m \u001b[0m┃\n",
       "┡━━━━━━━━━━━━━━━━━━━━━━━━━━━━━━━━━━━━━━╇━━━━━━━━━━━━━━━━━━━━━━━━━━━━━╇━━━━━━━━━━━━━━━━━┩\n",
       "│ embedding_6 (\u001b[38;5;33mEmbedding\u001b[0m)              │ (\u001b[38;5;45mNone\u001b[0m, \u001b[38;5;34m85\u001b[0m, \u001b[38;5;34m100\u001b[0m)             │           \u001b[38;5;34m6,000\u001b[0m │\n",
       "├──────────────────────────────────────┼─────────────────────────────┼─────────────────┤\n",
       "│ lstm_22 (\u001b[38;5;33mLSTM\u001b[0m)                       │ (\u001b[38;5;45mNone\u001b[0m, \u001b[38;5;34m85\u001b[0m, \u001b[38;5;34m256\u001b[0m)             │         \u001b[38;5;34m365,568\u001b[0m │\n",
       "├──────────────────────────────────────┼─────────────────────────────┼─────────────────┤\n",
       "│ dropout_22 (\u001b[38;5;33mDropout\u001b[0m)                 │ (\u001b[38;5;45mNone\u001b[0m, \u001b[38;5;34m85\u001b[0m, \u001b[38;5;34m256\u001b[0m)             │               \u001b[38;5;34m0\u001b[0m │\n",
       "├──────────────────────────────────────┼─────────────────────────────┼─────────────────┤\n",
       "│ lstm_23 (\u001b[38;5;33mLSTM\u001b[0m)                       │ (\u001b[38;5;45mNone\u001b[0m, \u001b[38;5;34m85\u001b[0m, \u001b[38;5;34m256\u001b[0m)             │         \u001b[38;5;34m525,312\u001b[0m │\n",
       "├──────────────────────────────────────┼─────────────────────────────┼─────────────────┤\n",
       "│ dropout_23 (\u001b[38;5;33mDropout\u001b[0m)                 │ (\u001b[38;5;45mNone\u001b[0m, \u001b[38;5;34m85\u001b[0m, \u001b[38;5;34m256\u001b[0m)             │               \u001b[38;5;34m0\u001b[0m │\n",
       "├──────────────────────────────────────┼─────────────────────────────┼─────────────────┤\n",
       "│ lstm_24 (\u001b[38;5;33mLSTM\u001b[0m)                       │ (\u001b[38;5;45mNone\u001b[0m, \u001b[38;5;34m85\u001b[0m, \u001b[38;5;34m512\u001b[0m)             │       \u001b[38;5;34m1,574,912\u001b[0m │\n",
       "├──────────────────────────────────────┼─────────────────────────────┼─────────────────┤\n",
       "│ dropout_24 (\u001b[38;5;33mDropout\u001b[0m)                 │ (\u001b[38;5;45mNone\u001b[0m, \u001b[38;5;34m85\u001b[0m, \u001b[38;5;34m512\u001b[0m)             │               \u001b[38;5;34m0\u001b[0m │\n",
       "├──────────────────────────────────────┼─────────────────────────────┼─────────────────┤\n",
       "│ lstm_25 (\u001b[38;5;33mLSTM\u001b[0m)                       │ (\u001b[38;5;45mNone\u001b[0m, \u001b[38;5;34m256\u001b[0m)                 │         \u001b[38;5;34m787,456\u001b[0m │\n",
       "├──────────────────────────────────────┼─────────────────────────────┼─────────────────┤\n",
       "│ dropout_25 (\u001b[38;5;33mDropout\u001b[0m)                 │ (\u001b[38;5;45mNone\u001b[0m, \u001b[38;5;34m256\u001b[0m)                 │               \u001b[38;5;34m0\u001b[0m │\n",
       "├──────────────────────────────────────┼─────────────────────────────┼─────────────────┤\n",
       "│ dense_6 (\u001b[38;5;33mDense\u001b[0m)                      │ (\u001b[38;5;45mNone\u001b[0m, \u001b[38;5;34m60\u001b[0m)                  │          \u001b[38;5;34m15,420\u001b[0m │\n",
       "└──────────────────────────────────────┴─────────────────────────────┴─────────────────┘\n"
      ]
     },
     "metadata": {},
     "output_type": "display_data"
    },
    {
     "data": {
      "text/html": [
       "<pre style=\"white-space:pre;overflow-x:auto;line-height:normal;font-family:Menlo,'DejaVu Sans Mono',consolas,'Courier New',monospace\"><span style=\"font-weight: bold\"> Total params: </span><span style=\"color: #00af00; text-decoration-color: #00af00\">3,274,668</span> (12.49 MB)\n",
       "</pre>\n"
      ],
      "text/plain": [
       "\u001b[1m Total params: \u001b[0m\u001b[38;5;34m3,274,668\u001b[0m (12.49 MB)\n"
      ]
     },
     "metadata": {},
     "output_type": "display_data"
    },
    {
     "data": {
      "text/html": [
       "<pre style=\"white-space:pre;overflow-x:auto;line-height:normal;font-family:Menlo,'DejaVu Sans Mono',consolas,'Courier New',monospace\"><span style=\"font-weight: bold\"> Trainable params: </span><span style=\"color: #00af00; text-decoration-color: #00af00\">3,274,668</span> (12.49 MB)\n",
       "</pre>\n"
      ],
      "text/plain": [
       "\u001b[1m Trainable params: \u001b[0m\u001b[38;5;34m3,274,668\u001b[0m (12.49 MB)\n"
      ]
     },
     "metadata": {},
     "output_type": "display_data"
    },
    {
     "data": {
      "text/html": [
       "<pre style=\"white-space:pre;overflow-x:auto;line-height:normal;font-family:Menlo,'DejaVu Sans Mono',consolas,'Courier New',monospace\"><span style=\"font-weight: bold\"> Non-trainable params: </span><span style=\"color: #00af00; text-decoration-color: #00af00\">0</span> (0.00 B)\n",
       "</pre>\n"
      ],
      "text/plain": [
       "\u001b[1m Non-trainable params: \u001b[0m\u001b[38;5;34m0\u001b[0m (0.00 B)\n"
      ]
     },
     "metadata": {},
     "output_type": "display_data"
    }
   ],
   "source": [
    "model.summary()"
   ]
  },
  {
   "cell_type": "markdown",
   "id": "3ca28683-2964-493e-9030-7e7d19c11a95",
   "metadata": {},
   "source": [
    "Here we are again reshaping it back because we used model.build() and passed sequence_length in it"
   ]
  },
  {
   "cell_type": "code",
   "execution_count": 66,
   "id": "b0fd1ea6-d5f3-4cab-b54b-0393b07347f5",
   "metadata": {},
   "outputs": [],
   "source": [
    "x_train_reshaped = x_train.reshape(x_train.shape[0], x_train.shape[1])"
   ]
  },
  {
   "cell_type": "code",
   "execution_count": 67,
   "id": "00974050-1537-47cf-a809-cf0eac99bbd5",
   "metadata": {},
   "outputs": [
    {
     "data": {
      "text/plain": [
       "(40180, 85)"
      ]
     },
     "execution_count": 67,
     "metadata": {},
     "output_type": "execute_result"
    }
   ],
   "source": [
    "x_train_reshaped.shape"
   ]
  },
  {
   "cell_type": "markdown",
   "id": "8cf98a53-1d04-4de7-8751-1295327b5262",
   "metadata": {},
   "source": [
    "#### Training data"
   ]
  },
  {
   "cell_type": "code",
   "execution_count": 69,
   "id": "dafea23e-8d16-453b-a3d7-8c9564bc11d3",
   "metadata": {},
   "outputs": [
    {
     "name": "stdout",
     "output_type": "stream",
     "text": [
      "Epoch 1/5\n",
      "\u001b[1m1256/1256\u001b[0m \u001b[32m━━━━━━━━━━━━━━━━━━━━\u001b[0m\u001b[37m\u001b[0m \u001b[1m3269s\u001b[0m 3s/step - loss: 2.6616\n",
      "Epoch 2/5\n",
      "\u001b[1m1256/1256\u001b[0m \u001b[32m━━━━━━━━━━━━━━━━━━━━\u001b[0m\u001b[37m\u001b[0m \u001b[1m3043s\u001b[0m 2s/step - loss: 1.6512\n",
      "Epoch 3/5\n",
      "\u001b[1m1256/1256\u001b[0m \u001b[32m━━━━━━━━━━━━━━━━━━━━\u001b[0m\u001b[37m\u001b[0m \u001b[1m2915s\u001b[0m 2s/step - loss: 1.4095\n",
      "Epoch 4/5\n",
      "\u001b[1m1256/1256\u001b[0m \u001b[32m━━━━━━━━━━━━━━━━━━━━\u001b[0m\u001b[37m\u001b[0m \u001b[1m6426s\u001b[0m 5s/step - loss: 1.2867\n",
      "Epoch 5/5\n",
      "\u001b[1m1256/1256\u001b[0m \u001b[32m━━━━━━━━━━━━━━━━━━━━\u001b[0m\u001b[37m\u001b[0m \u001b[1m2778s\u001b[0m 2s/step - loss: 1.2296\n"
     ]
    },
    {
     "data": {
      "text/plain": [
       "<keras.src.callbacks.history.History at 0x2223fd0bfe0>"
      ]
     },
     "execution_count": 69,
     "metadata": {},
     "output_type": "execute_result"
    }
   ],
   "source": [
    "model.fit(x_train_reshaped,y_train,epochs=5,batch_size=32)"
   ]
  },
  {
   "cell_type": "code",
   "execution_count": 70,
   "id": "591f272a-12a4-4bcb-a511-ceb70221339d",
   "metadata": {},
   "outputs": [
    {
     "name": "stderr",
     "output_type": "stream",
     "text": [
      "WARNING:absl:You are saving your model as an HDF5 file via `model.save()` or `keras.saving.save_model(model)`. This file format is considered legacy. We recommend using instead the native Keras format, e.g. `model.save('my_model.keras')` or `keras.saving.save_model(model, 'my_model.keras')`. \n"
     ]
    }
   ],
   "source": [
    "model.save('music_generator_model.h5')"
   ]
  },
  {
   "cell_type": "code",
   "execution_count": 73,
   "id": "56268959-7a00-452c-9d4b-56b1fa03eb48",
   "metadata": {},
   "outputs": [],
   "source": [
    "model.save('music_generator_mdl.keras')"
   ]
  },
  {
   "cell_type": "markdown",
   "id": "69407b05-1a2d-425e-bc19-7eeb55a9abef",
   "metadata": {},
   "source": [
    "#### Testing time !!!!"
   ]
  },
  {
   "cell_type": "markdown",
   "id": "568aa63a-13d8-48a8-847e-572115fad668",
   "metadata": {},
   "source": [
    "We will use any tune from the dataset and store it in a text file"
   ]
  },
  {
   "cell_type": "code",
   "execution_count": 74,
   "id": "0734643d-5239-4bbd-b328-092bd4c9e6ec",
   "metadata": {},
   "outputs": [],
   "source": [
    "with open('data/test_tune.txt') as f:\n",
    "    test_tune = f.read()\n",
    "f.close()"
   ]
  },
  {
   "cell_type": "code",
   "execution_count": 85,
   "id": "921de2c2-3112-437c-8a10-ae99b70128b7",
   "metadata": {},
   "outputs": [],
   "source": [
    "test_tune_list = []\n",
    "test_tune_list.append(test_tune)"
   ]
  },
  {
   "cell_type": "code",
   "execution_count": 86,
   "id": "ed942e26-9683-48f7-b3a7-bd9f10eb3e33",
   "metadata": {},
   "outputs": [],
   "source": [
    "test_tune_list[0] = preprocess_tunes(test_tune_list[0])"
   ]
  },
  {
   "cell_type": "code",
   "execution_count": 87,
   "id": "de2d0e0f-c754-4f2c-ab0d-c44605575a6f",
   "metadata": {},
   "outputs": [
    {
     "name": "stdout",
     "output_type": "stream",
     "text": [
      "M:9/8\n",
      "K:Em\n",
      "P:A\n",
      "B|:\"Em\"E2E FEF G2F|\"Em\"E2E \"Am\"cBA \"Em\"BGE|\"Em\"E2E \"D\"FEF \"G\"G2G/2A/2|\\\n",
      "\"C\"BAG FAG \"D\"FED:|\n",
      "P:B\n",
      "|:\"G\"BGB \"D7\"AFA \"G\"G2(3D/2E/2F/2|\"G\"GAB dge \"D7\"dBA|\"G\"Bcd \"D7\"cBA \"G\"G2A|\\\n",
      "\"C\"BAG FAG \"D\"FED:|\n",
      "P:C\n",
      "|:\"Em\"g2g eBe e2e/2f/2|\"Em\"gfg efg \"D\"afd|\"Em\"g2g eBe e2(3f/2g/2a/2|\\\n",
      "\"C\"bag fag \"D\"fed:|\n",
      "P:D\n",
      "|:\"Em\"eBB e2f g2f|\"Em\"eBB efg \"D\"afd|\"Em\"eBB e2f g2g/2a/2|\"C\"bag fag \"D\"fed:|\n",
      "P:E\n",
      "|:\"G\"edB \"D7\"dBA \"G\"G2(3D/2E/2F/2|\"G\"GAB dge \"D7\"dBd|\"G\"edB \"D7\"dBA \"G\"G2A|\\\n",
      "\"C\"BAG FAG \"D\"FED:|\n",
      "P:F\n",
      "|:\"Em\"B,EE eBG E3|\"Em\"B,EE EFG \"D\"AFD|\"Em\"B,EE eBG E2(3F/2G/2A/2|\\\n",
      "\"C\"BAG FAG \"D\"FED:|\n"
     ]
    }
   ],
   "source": [
    "print(test_tune_list[0])"
   ]
  },
  {
   "cell_type": "code",
   "execution_count": 89,
   "id": "46089d13-ce81-4c3a-b897-21d4c0429a7c",
   "metadata": {},
   "outputs": [],
   "source": [
    "test_tune_list[0] = test_tune_list[0].replace('9', '4')\n",
    "test_tune_list[0] = test_tune_list[0].replace('8', '4')\n",
    "test_tune_input = np.asarray([word_to_index[c] for c in test_tune_list[0]], dtype=np.int32)"
   ]
  },
  {
   "cell_type": "code",
   "execution_count": 91,
   "id": "a52739f7-ab62-4655-a7bb-62a6aadbfd00",
   "metadata": {},
   "outputs": [],
   "source": [
    "test_tune_input = test_tune_input.reshape(-1,1)"
   ]
  },
  {
   "cell_type": "code",
   "execution_count": 97,
   "id": "c4833d21-6d58-4e2f-95b0-fc64f656ef0b",
   "metadata": {},
   "outputs": [],
   "source": [
    "x_test = []\n",
    "for i in range(sequence_length,len(test_tune_input)-1):\n",
    "    x_test.append(test_tune_input[i-sequence_length:i,0])\n",
    "x_test = np.array(x_test,dtype = np.int32)"
   ]
  },
  {
   "cell_type": "code",
   "execution_count": 98,
   "id": "9be68924-2f39-45fa-b77d-8cf8db70604f",
   "metadata": {},
   "outputs": [
    {
     "data": {
      "text/plain": [
       "(489, 85)"
      ]
     },
     "execution_count": 98,
     "metadata": {},
     "output_type": "execute_result"
    }
   ],
   "source": [
    "x_test.shape"
   ]
  },
  {
   "cell_type": "code",
   "execution_count": 99,
   "id": "d2136967-1447-4964-a778-80a5b29f966c",
   "metadata": {},
   "outputs": [
    {
     "name": "stdout",
     "output_type": "stream",
     "text": [
      "\u001b[1m16/16\u001b[0m \u001b[32m━━━━━━━━━━━━━━━━━━━━\u001b[0m\u001b[37m\u001b[0m \u001b[1m10s\u001b[0m 589ms/step\n"
     ]
    }
   ],
   "source": [
    "predicted_tune = model.predict(x_test)"
   ]
  },
  {
   "cell_type": "code",
   "execution_count": 100,
   "id": "1cd73e1f-9bb8-49e7-9734-496d7683e088",
   "metadata": {},
   "outputs": [
    {
     "data": {
      "text/plain": [
       "array([[8.5270248e-02, 3.2197710e-03, 1.0062946e-04, ..., 2.9594219e-06,\n",
       "        2.7188549e-05, 9.6840737e-03],\n",
       "       [9.2363203e-01, 6.7271193e-04, 8.6103491e-06, ..., 1.9756030e-07,\n",
       "        3.0167703e-05, 1.1857341e-03],\n",
       "       [9.5102591e-03, 5.5536018e-03, 2.4822812e-05, ..., 1.0593737e-06,\n",
       "        5.3726402e-05, 5.9285155e-03],\n",
       "       ...,\n",
       "       [4.3811556e-04, 1.8710572e-03, 2.2860178e-05, ..., 7.1160566e-06,\n",
       "        9.2215789e-04, 2.8090373e-02],\n",
       "       [2.0742270e-03, 9.8901592e-02, 2.5384616e-05, ..., 1.2472483e-06,\n",
       "        8.0845362e-05, 4.4888312e-01],\n",
       "       [1.4377750e-02, 2.4407508e-02, 4.3351964e-05, ..., 6.3704420e-07,\n",
       "        1.2291920e-04, 4.6780869e-01]], dtype=float32)"
      ]
     },
     "execution_count": 100,
     "metadata": {},
     "output_type": "execute_result"
    }
   ],
   "source": [
    "predicted_tune"
   ]
  },
  {
   "cell_type": "code",
   "execution_count": 101,
   "id": "1aae8629-20bb-4d32-ae49-3d37be532039",
   "metadata": {},
   "outputs": [
    {
     "name": "stdout",
     "output_type": "stream",
     "text": [
      "['\"', '\\n', '\"', 'D', '\"', 'd', '2', ' ', '|', '\"', '2', '|', '|', '|', 'D', '\"', 'd', '2', '|', '|', '\"', '\"', '\\n', ':', 'A', '\\n', 'd', ':', ':', 'A', '\"', 'B', '2', ' ', '2', '\"', 'D', '\"', '\"', 'd', '2', '|', '|', '\"', 'D', '\"', 'B', '2', '|', '|', '2', '|', '2', 'B', '/', '2', '|', '/', '2', '|', '\"', 'D', '\"', 'B', '2', ' ', '/', '\"', '2', '|', '|', '|', 'D', '\"', '\"', 'd', '2', '|', '|', '\"', 'D', '\"', 'B', '2', ' ', '|', 'B', 'D', '\"', '\"', 'd', '2', '|', '|', '\"', 'D', '\"', 'B', '2', '|', '2', '\"', '\\n', '\"', 'D', '\"', 'd', '2', ' ', '|', 'B', '2', '|', '|', '\"', 'D', '\"', 'd', '2', '|', '|', '\"', '\"', '\\n', ':', 'A', '\\n', 'P', ':', ':', 'A', '\"', '\"', 'A', '2', ' ', '2', '|', '2', '|', '|', '\"', '2', '|', '2', '2', 'c', '/', '2', '|', '\"', 'D', '\"', '\"', 'A', '/', ' ', '/', '\"', '2', '|', '|', '|', 'D', '\"', 'd', '2', '|', '|', '\"', 'D', '\"', '\"', 'A', '2', ' ', '2', '\"', '2', '|', '|', 'A', '2', '|', '\"', '2', ' ', '2', 'c', '/', '2', '|', '/', '2', ' ', '\"', '\\n', '\"', 'D', '\"', 'B', '2', ' ', '/', '\"', '2', '|', '|', '|', 'D', '\"', 'd', '2', '|', '|', '\"', '\"', '\\n', ':', 'A', '\\n', 'P', ':', ':', 'A', '\"', '\"', 'A', '2', ' ', '|', '\"', '2', '|', '2', '|', '2', '|', '2', '|', 'D', '7', '\"', 'A', '2', ' ', '|', '\"', '2', '|', '|', '|', 'D', '7', 'd', '2', '|', '|', '\"', 'D', '\"', '\"', 'A', '2', ' ', '|', '\"', '2', '|', '2', '|', '2', '|', '2', '2', 'c', '/', '2', '|', '\"', 'D', '\"', 'B', '/', ' ', '|', '\"', '2', '|', '|', '|', 'D', '\"', 'd', '2', '|', '|', '\"', '\"', '\\n', ':', 'A', '\\n', 'P', ':', 'M', 'D', '\"', 'B', '2', ' ', '|', '\"', 'D', '\"', '\"', 'd', '2', '|', '|', '\"', 'D', '\"', 'B', '2', '|', '\"', '2', '|', '2', 'B', '/', '2', '|', '/', '2', '|', '\"', 'D', '\"', 'B', '2', ' ', '/', '\"', '2', '|', '|', '|', 'D', '\"', '\"', 'd', '2', '|', '|', '\"', 'D', '\"', 'B', '2', ' ', '|', 'B', 'D', '\"', '\"', 'd', '2', '|', '|', '\"', 'D', '\"', 'B', '2', '|', '2', '\"', '\\n', '\"', 'D', '\"', 'd', '2', ' ', '|', 'B', '2', '|', '|', '\"', 'D', '\"', 'd', '2', '|', '|', '\"', '\"', '\\n', ':', 'A', '\\n', 'P', ':', ':', 'A', '\"', '\"', 'A', '2', ' ', '|', '|', '\"', '2', '|', '|', 'A', '2', '|', '\"', 'D', '7', '\"', 'A', '2', ' ', '2', ' ', '\"', '2', '|', '|', '|', 'D', '\"', 'd', '2', '|', '|', '\"', 'D', '7', '\"', 'A', '2', ' ', '|', ' ', 'B', '2', '|', '|', 'A', '2', '|', '\"', '2', ' ', '2', 'c', '/', '2', '|', '/', '2', '|', '\"', '\\n', '\"', 'D', '\"', 'B', '2', ' ', '|', '\"', '2', '|', '|', 'B', 'D', '\"', 'd', '2', '|', '|']\n"
     ]
    }
   ],
   "source": [
    "decoded_predicted_tune = []\n",
    "for row in predicted_tune:\n",
    "    max_index = np.argmax(row)\n",
    "    predicted_token = index_to_word[max_index]\n",
    "    decoded_predicted_tune.append(predicted_token)\n",
    "\n",
    "print(decoded_predicted_tune)"
   ]
  },
  {
   "cell_type": "code",
   "execution_count": 105,
   "id": "e9f6a482-5062-4e53-a16e-b0ed845898fe",
   "metadata": {},
   "outputs": [
    {
     "data": {
      "text/plain": [
       "'\"\\n\"D\"d2 |\"2|||D\"d2||\"\"\\n:A\\nd::A\"B2 2\"D\"\"d2||\"D\"B2||2|2B/2|/2|\"D\"B2 /\"2|||D\"\"d2||\"D\"B2 |BD\"\"d2||\"D\"B2|2\"\\n\"D\"d2 |B2||\"D\"d2||\"\"\\n:A\\nP::A\"\"A2 2|2||\"2|22c/2|\"D\"\"A/ /\"2|||D\"d2||\"D\"\"A2 2\"2||A2|\"2 2c/2|/2 \"\\n\"D\"B2 /\"2|||D\"d2||\"\"\\n:A\\nP::A\"\"A2 |\"2|2|2|2|D7\"A2 |\"2|||D7d2||\"D\"\"A2 |\"2|2|2|22c/2|\"D\"B/ |\"2|||D\"d2||\"\"\\n:A\\nP:MD\"B2 |\"D\"\"d2||\"D\"B2|\"2|2B/2|/2|\"D\"B2 /\"2|||D\"\"d2||\"D\"B2 |BD\"\"d2||\"D\"B2|2\"\\n\"D\"d2 |B2||\"D\"d2||\"\"\\n:A\\nP::A\"\"A2 ||\"2||A2|\"D7\"A2 2 \"2|||D\"d2||\"D7\"A2 | B2||A2|\"2 2c/2|/2|\"\\n\"D\"B2 |\"2||BD\"d2||'"
      ]
     },
     "execution_count": 105,
     "metadata": {},
     "output_type": "execute_result"
    }
   ],
   "source": [
    "decoded_predicted_tune = ''.join(decoded_predicted_tune)\n",
    "decoded_predicted_tune"
   ]
  },
  {
   "cell_type": "code",
   "execution_count": 160,
   "id": "edfb22c4-c874-4b3f-90c6-042a094be12d",
   "metadata": {},
   "outputs": [],
   "source": [
    "completed_song = test_tune_list[0][:85]\n",
    "completed_song = completed_song+decoded_predicted_tune\n",
    "\n"
   ]
  },
  {
   "cell_type": "markdown",
   "id": "1bf74135-37ae-4c3b-9a24-8452b86cce16",
   "metadata": {},
   "source": [
    "Check for  inconsistencies in bar lines (|: and :|). You can also use ChatGPT to save time"
   ]
  },
  {
   "cell_type": "code",
   "execution_count": 181,
   "id": "429af90b-5f62-48fe-9ba0-4e9926c8fb3c",
   "metadata": {},
   "outputs": [],
   "source": [
    "processesses_completed_song = 'M:4/4\\nL:1/4\\nK:Em\\nP:A\\nB|\"Em\"E2E FEF G2F|\"Em\"E2E \"Am\"cBA \"Em\"BGE|\"Em\"E2E \"D\"FEF \"G\"G2G/2A/2|\"D\"d2||\\n\\n|:d|A \"B2\"D\"d2||\"D\"B2||B/2|B \"D2\"|d2||\"D\"B2 |BD\"d2||\"D\"B2|2\"d2 |B2||d2||\\n\\nP:A\\nA2 |\"2|2|2|2|D7\"A2 |2|||d2||A2 |2|2|2|22c/2|\"D\"B/ |2|||d2||\\n\\nP:M\\nD\"B2 |\"D\"d2||\"D\"B2|2|B/2|B2 /2|||d2||\"D\"B2 |BD\"d2||\"D\"B2|2\"d2 |B2||d2||\\n\\nP:A\\nA2 ||2||A2|\"D7\"A2 2|2|||d2||\"D7\"A2 | B2||A2|\"2 2c/2|/2|\"D\"B2 |2||BD\"d2||'"
   ]
  },
  {
   "cell_type": "code",
   "execution_count": 182,
   "id": "553e7043-d7bf-45af-8e39-4d33411c0736",
   "metadata": {},
   "outputs": [
    {
     "name": "stdout",
     "output_type": "stream",
     "text": [
      "M:4/4\n",
      "L:1/4\n",
      "K:Em\n",
      "P:A\n",
      "B|\"Em\"E2E FEF G2F|\"Em\"E2E \"Am\"cBA \"Em\"BGE|\"Em\"E2E \"D\"FEF \"G\"G2G/2A/2|\"D\"d2||\n",
      "\n",
      "|:d|A \"B2\"D\"d2||\"D\"B2||B/2|B \"D2\"|d2||\"D\"B2 |BD\"d2||\"D\"B2|2\"d2 |B2||d2||\n",
      "\n",
      "P:A\n",
      "A2 |\"2|2|2|2|D7\"A2 |2|||d2||A2 |2|2|2|22c/2|\"D\"B/ |2|||d2||\n",
      "\n",
      "P:M\n",
      "D\"B2 |\"D\"d2||\"D\"B2|2|B/2|B2 /2|||d2||\"D\"B2 |BD\"d2||\"D\"B2|2\"d2 |B2||d2||\n",
      "\n",
      "P:A\n",
      "A2 ||2||A2|\"D7\"A2 2|2|||d2||\"D7\"A2 | B2||A2|\"2 2c/2|/2|\"D\"B2 |2||BD\"d2||\n"
     ]
    }
   ],
   "source": [
    "print (processesses_completed_song)"
   ]
  },
  {
   "cell_type": "markdown",
   "id": "96ff2d2c-8ccf-457f-86af-07daceb110db",
   "metadata": {},
   "source": [
    "#### Playing Generated tune using https://notabc.app/abc-converter/\n"
   ]
  },
  {
   "cell_type": "markdown",
   "id": "85e59627-7277-4e17-8726-d45ccd31d1ce",
   "metadata": {},
   "source": [
    "You can download midi file from there and play here\n"
   ]
  },
  {
   "cell_type": "code",
   "execution_count": 183,
   "id": "7a6cb193-0473-4fb5-abc9-1ff73d36ce34",
   "metadata": {},
   "outputs": [],
   "source": [
    "from music21 import midi\n",
    "\n",
    "def play_midi(midi_file):\n",
    "    mf = midi.MidiFile()\n",
    "    mf.open(midi_file)\n",
    "    mf.read()\n",
    "    mf.close()\n",
    "\n",
    "    stream = midi.translate.midiFileToStream(mf)\n",
    "    stream.show('midi')"
   ]
  },
  {
   "cell_type": "code",
   "execution_count": 185,
   "id": "087746c9-7820-4220-ac55-428b6c4beb5b",
   "metadata": {},
   "outputs": [
    {
     "data": {
      "text/html": [
       "\n",
       "        <div id=\"midiPlayerDiv29890\"></div>\n",
       "        <link rel=\"stylesheet\" href=\"https://cuthbertLab.github.io/music21j/css/m21.css\">\n",
       "        \n",
       "        <script\n",
       "        src=\"https://cdnjs.cloudflare.com/ajax/libs/require.js/2.3.6/require.min.js\"\n",
       "        ></script>\n",
       "    \n",
       "        <script>\n",
       "        function midiPlayerDiv29890_play() {\n",
       "            const rq = require.config({\n",
       "                paths: {\n",
       "                    'music21': 'https://cuthbertLab.github.io/music21j/releases/music21.debug',\n",
       "                }\n",
       "            });\n",
       "            rq(['music21'], function(music21) {\n",
       "                mp = new music21.miditools.MidiPlayer();\n",
       "                mp.addPlayer(\"#midiPlayerDiv29890\");\n",
       "                mp.base64Load(\"data:audio/midi;base64,TVRoZAAAAAYAAQADJ2BNVHJrAAAAGgD/UQMFFhUA/1kCAQEA/1gEBAIYCM5g/y8ATVRyawAAAQAA/wMFUGlhbm8AwAAA4ABAAMAAzmCQR1XOYIBHAACQQGmBnUCAQAAAkEBfzmCAQAAAkEJfzmCAQgAAkEBfzmCAQAAAkEJfzmCAQgAAkENfgZ1AgEMAAJBCX85ggEIAAJBAaYGdQIBAAACQQF/OYIBAAACQSF/OYIBIAACQR1/OYIBHAACQRV/OYIBFAACQR1/OYIBHAACQQ1/OYIBDAACQQF/OYIBAAACQQGmBnUCAQAAAkEBfzmCAQAAAkEJfzmCAQgAAkEBfzmCAQAAAkEJfzmCAQgAAkENfgZ1AgEMAAJBDX6cwgEMAAJBFVacwgEUAAJBKaYGdQIBKAM5g/y8ATVRyawAAAwsA/wMFUGlhbm8AwAAA4ABAAMAAgZ1AkDQwAJA3MACQOzCnMIA0AACANwAAgDsApzCQNDAAkDcwAJA7MKcwgDQAAIA3AACAOwCnMJA0MACQNzAAkDswpzCANAAAgDcAAIA7AKcwkDQwAJA3MACQOzCnMIA0AACANwAAgDsApzCQNDAAkDcwAJA7MKcwgDQAAIA3AACAOwCnMJA0MACQNzAAkDswpzCANAAAgDcAAIA7AKcwkDQwAJA3MACQOzCnMIA0AACANwAAgDsApzCQNDAAkDcwAJA7MKcwgDQAAIA3AACAOwCnMJA0MACQNzAAkDswpzCANAAAgDcAAIA7AKcwkDQwAJA3MACQOzCnMIA0AACANwAAgDsApzCQNDAAkDcwAJA7MKcwgDQAAIA3AACAOwCnMJA0MACQNzAAkDswpzCANAAAgDcAAIA7AKcwkC0wAJAwMACQNDCnMIAtAACAMAAAgDQApzCQLTAAkDAwAJA0MKcwgC0AAIAwAACANACnMJAtMACQMDAAkDQwpzCALQAAgDAAAIA0AKcwkDQwAJA3MACQOzCnMIA0AACANwAAgDsApzCQNDAAkDcwAJA7MKcwgDQAAIA3AACAOwCnMJA0MACQNzAAkDswpzCANAAAgDcAAIA7AKcwkDQwAJA3MACQOzCnMIA0AACANwAAgDsApzCQNDAAkDcwAJA7MKcwgDQAAIA3AACAOwCnMJA0MACQNzAAkDswpzCANAAAgDcAAIA7AKcwkDIwAJA2MACQOTCnMIAyAACANgAAgDkApzCQMjAAkDYwAJA5MKcwgDIAAIA2AACAOQCnMJAyMACQNjAAkDkwpzCAMgAAgDYAAIA5AKcwkDcwAJA7MACQPjCnMIA3AACAOwAAgD4ApzCQNzAAkDswAJA+MKcwgDcAAIA7AACAPgCnMJA3MACQOzAAkD4wpzCANwAAgDsAAIA+AKcwkDIwAJA2MACQOTCnMIAyAACANgAAgDkApzCQMjAAkDYwAJA5MKcwgDIAAIA2AACAOQDOYP8vAA==\");\n",
       "            });\n",
       "        }\n",
       "        if (typeof require === 'undefined') {\n",
       "            setTimeout(midiPlayerDiv29890_play, 2000);\n",
       "        } else {\n",
       "            midiPlayerDiv29890_play();\n",
       "        }\n",
       "        </script>"
      ],
      "text/plain": [
       "<IPython.core.display.HTML object>"
      ]
     },
     "metadata": {},
     "output_type": "display_data"
    }
   ],
   "source": [
    "midi_file = \"data/generated_tune.mid\"\n",
    "play_midi(midi_file)"
   ]
  },
  {
   "cell_type": "markdown",
   "id": "e51dbf28-99d2-4cd8-a995-6dbbd9bcb429",
   "metadata": {},
   "source": [
    "#### Thats it guys\n",
    "#### Thanks for reading"
   ]
  }
 ],
 "metadata": {
  "kernelspec": {
   "display_name": "Python 3 (ipykernel)",
   "language": "python",
   "name": "python3"
  },
  "language_info": {
   "codemirror_mode": {
    "name": "ipython",
    "version": 3
   },
   "file_extension": ".py",
   "mimetype": "text/x-python",
   "name": "python",
   "nbconvert_exporter": "python",
   "pygments_lexer": "ipython3",
   "version": "3.12.2"
  }
 },
 "nbformat": 4,
 "nbformat_minor": 5
}
